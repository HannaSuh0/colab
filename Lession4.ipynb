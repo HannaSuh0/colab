{
  "nbformat": 4,
  "nbformat_minor": 0,
  "metadata": {
    "colab": {
      "name": "Lession4.ipynb",
      "provenance": [],
      "authorship_tag": "ABX9TyPexc12uq1Ef0IeSuqHXbal",
      "include_colab_link": true
    },
    "kernelspec": {
      "name": "python3",
      "display_name": "Python 3"
    },
    "language_info": {
      "name": "python"
    }
  },
  "cells": [
    {
      "cell_type": "markdown",
      "metadata": {
        "id": "view-in-github",
        "colab_type": "text"
      },
      "source": [
        "<a href=\"https://colab.research.google.com/github/HannaSuh0/colab/blob/main/Lession4.ipynb\" target=\"_parent\"><img src=\"https://colab.research.google.com/assets/colab-badge.svg\" alt=\"Open In Colab\"/></a>"
      ]
    },
    {
      "cell_type": "markdown",
      "source": [
        "4장 예제"
      ],
      "metadata": {
        "id": "utRikPzxz8Fa"
      }
    },
    {
      "cell_type": "code",
      "source": [
        "print(\"\\n줄바꿈\\n연습\")\n",
        "print(\"\\t탭키\\t연습\")\n",
        "print(\"어떤 글자를 \\\"강조\\\"하는 효과1\")\n",
        "print(\"어떤 글자를 \\\"강조\\\"하는 효과2\")\n",
        "print(\"\\\\\\\\ 백슬래시 2개 출력\")"
      ],
      "metadata": {
        "colab": {
          "base_uri": "https://localhost:8080/"
        },
        "id": "x6kzRcaw0FTr",
        "outputId": "30c1797d-aece-4692-ef59-a6b2220efc17"
      },
      "execution_count": 4,
      "outputs": [
        {
          "output_type": "stream",
          "name": "stdout",
          "text": [
            "\n",
            "줄바꿈\n",
            "연습\n",
            "\t탭키\t연습\n",
            "어떤 글자를 \"강조\"하는 효과1\n",
            "어떤 글자를 \"강조\"하는 효과2\n",
            "\\\\ 백슬래시 2개 출력\n"
          ]
        }
      ]
    },
    {
      "cell_type": "markdown",
      "source": [
        "형성평가 : 길이차이 체크하기"
      ],
      "metadata": {
        "id": "W_yfxHC742pv"
      }
    },
    {
      "cell_type": "code",
      "source": [
        "var1 = \"난생처음 파이썬\"\n",
        "print(var1)\n",
        "\n",
        "var2 = \"First Python\"\n",
        "print(var2)"
      ],
      "metadata": {
        "colab": {
          "base_uri": "https://localhost:8080/"
        },
        "id": "rbBWD_7k44_F",
        "outputId": "54e18a24-d8cf-491d-fcb5-010a2062f96d"
      },
      "execution_count": 10,
      "outputs": [
        {
          "output_type": "stream",
          "name": "stdout",
          "text": [
            "난생처음 파이썬\n",
            "First Python\n"
          ]
        }
      ]
    },
    {
      "cell_type": "code",
      "source": [
        "var1 = input(\"첫 번째 문자열 ==>\")\n",
        "var2 = input(\"두 번째 문자열 ==>\")\n",
        "\n",
        "len1 = len(var1)\n",
        "len2 = len(var2)\n",
        "\n",
        "diff = len1 - len2\n",
        "\n",
        "print(\"두 문자열의 길이 차이는\", diff, \"입니다.\")"
      ],
      "metadata": {
        "colab": {
          "base_uri": "https://localhost:8080/"
        },
        "id": "yWQ96dDT4_oE",
        "outputId": "3fc34d40-b0f9-4cd1-a0fa-8513aad01a80"
      },
      "execution_count": 11,
      "outputs": [
        {
          "output_type": "stream",
          "name": "stdout",
          "text": [
            "첫 번째 문자열 ==>난생처음 파이썬\n",
            "두 번째 문자열 ==>First Python\n",
            "두 문자열의 길이 차이는 -4 입니다.\n"
          ]
        }
      ]
    },
    {
      "cell_type": "code",
      "source": [
        ">>> ss = 'First Python을 밤 12시까지 열공 중!'\n",
        ">>> var1 = ss.upper()\n",
        ">>> print(var1)\n",
        "\n",
        ">>> var2 = ss.lower()\n",
        ">>> print(var2)"
      ],
      "metadata": {
        "colab": {
          "base_uri": "https://localhost:8080/"
        },
        "id": "rQRRyo6X7875",
        "outputId": "fc4b7e92-5947-4a50-b268-ead5b5397140"
      },
      "execution_count": 21,
      "outputs": [
        {
          "output_type": "stream",
          "name": "stdout",
          "text": [
            "FIRST PYTHON을 밤 12시까지 열공 중!\n",
            "first python을 밤 12시까지 열공 중!\n"
          ]
        }
      ]
    },
    {
      "cell_type": "code",
      "source": [
        ">>> ss = \"난생처음 파이썬을 처음으로 학습 중입니다. 파이썬은 처음이지만 재미있네요. ^^\"\n",
        ">>> ss.count(\"처음\")"
      ],
      "metadata": {
        "colab": {
          "base_uri": "https://localhost:8080/"
        },
        "id": "ty0SPMGr8OI_",
        "outputId": "b78da7a4-bab5-456f-803b-d04b0aeebaa4"
      },
      "execution_count": 24,
      "outputs": [
        {
          "output_type": "execute_result",
          "data": {
            "text/plain": [
              "3"
            ]
          },
          "metadata": {},
          "execution_count": 24
        }
      ]
    },
    {
      "cell_type": "markdown",
      "source": [
        "형성평가 : 대소문자 변환 프로그램"
      ],
      "metadata": {
        "id": "BfkqXxUl7IU2"
      }
    },
    {
      "cell_type": "code",
      "source": [
        "ss = \"Python\"\n",
        "print(\"원본 문자열 ==>\", ss)\n",
        "\n",
        "ss2 = \"\"\n",
        "\n",
        "ss2 += ss[0].lower()\n",
        "ss2 += ss[1].upper()\n",
        "ss2 += ss[2].upper()\n",
        "ss2 += ss[3].upper()\n",
        "ss2 += ss[4].upper()\n",
        "ss2 += ss[5].upper()\n",
        "\n",
        "print(\"변환 문자열 ==>\", end='')\n",
        "print(ss2)"
      ],
      "metadata": {
        "colab": {
          "base_uri": "https://localhost:8080/"
        },
        "id": "PZWeN_pk7Mun",
        "outputId": "7317bed8-1cfd-4c0f-aa1b-eb768a4de982"
      },
      "execution_count": 14,
      "outputs": [
        {
          "output_type": "stream",
          "name": "stdout",
          "text": [
            "원본 문자열 ==> Python\n",
            "변환 문자열 ==>pYTHON\n"
          ]
        }
      ]
    },
    {
      "cell_type": "markdown",
      "source": [
        "형성평가 : 문자열을 거꾸로 출력하는 프로그램"
      ],
      "metadata": {
        "id": "Qo7B6tHI6oTW"
      }
    },
    {
      "cell_type": "code",
      "source": [
        "ss = \"트와이스\"\n",
        "print(\"원본 문자열 ==>\", ss)\n",
        "\n",
        "print(\"반대 문자열 ==>\", end='')\n",
        "print(ss[3], end='')\n",
        "print(ss[2], end='')\n",
        "print(ss[1], end='')\n",
        "print(ss[0], end='')"
      ],
      "metadata": {
        "colab": {
          "base_uri": "https://localhost:8080/"
        },
        "id": "dkoJ4khT6v1n",
        "outputId": "7b1d2432-3c7e-4768-d831-726f7d62a0d9"
      },
      "execution_count": 13,
      "outputs": [
        {
          "output_type": "stream",
          "name": "stdout",
          "text": [
            "원본 문자열 ==> 트와이스\n",
            "반대 문자열 ==>스이와트"
          ]
        }
      ]
    },
    {
      "cell_type": "code",
      "source": [
        ""
      ],
      "metadata": {
        "id": "7lAFxV9P77AH"
      },
      "execution_count": null,
      "outputs": []
    }
  ]
}