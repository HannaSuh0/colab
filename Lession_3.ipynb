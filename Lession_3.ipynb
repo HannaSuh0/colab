{
  "nbformat": 4,
  "nbformat_minor": 0,
  "metadata": {
    "colab": {
      "name": "Lession-3.ipynb",
      "provenance": [],
      "authorship_tag": "ABX9TyOTmVup3kqH8Zw+BShIV7/6",
      "include_colab_link": true
    },
    "kernelspec": {
      "name": "python3",
      "display_name": "Python 3"
    },
    "language_info": {
      "name": "python"
    }
  },
  "cells": [
    {
      "cell_type": "markdown",
      "metadata": {
        "id": "view-in-github",
        "colab_type": "text"
      },
      "source": [
        "<a href=\"https://colab.research.google.com/github/HannaSuh0/colab/blob/main/Lession_3.ipynb\" target=\"_parent\"><img src=\"https://colab.research.google.com/assets/colab-badge.svg\" alt=\"Open In Colab\"/></a>"
      ]
    },
    {
      "cell_type": "markdown",
      "source": [
        "연산자 예제"
      ],
      "metadata": {
        "id": "uDCY5C0l6r6O"
      }
    },
    {
      "cell_type": "code",
      "execution_count": 7,
      "metadata": {
        "colab": {
          "base_uri": "https://localhost:8080/"
        },
        "id": "QD9Ghukj48IW",
        "outputId": "c018aefb-5739-461f-be66-403fe59bd64f"
      },
      "outputs": [
        {
          "output_type": "stream",
          "name": "stdout",
          "text": [
            "나눠지는 수 ==> 25\n",
            "나누는 수 ==> 10\n",
            "25 을(를) 10 (으)로 나눈 몫은 2 입니다.\n",
            "25 을(를) 10 (으)로 나눈 몫은 5 입니다.\n"
          ]
        }
      ],
      "source": [
        "num1 = int(input(\"나눠지는 수 ==> \" ))\n",
        "num2 = int(input(\"나누는 수 ==> \" ))\n",
        "q = num1 // num2\n",
        "r = num1 % num2\n",
        "print(num1, '을(를)', num2, '(으)로 나눈 몫은', q, '입니다.')\n",
        "print(num1, '을(를)', num2, '(으)로 나눈 몫은', r, '입니다.')"
      ]
    },
    {
      "cell_type": "markdown",
      "source": [
        "짝수, 홀수 판별 프로그램"
      ],
      "metadata": {
        "id": "ONPAtNOV6rDt"
      }
    },
    {
      "cell_type": "code",
      "source": [
        "num = int(input(\"정수를 입력 ==>\"))\n",
        "\n",
        "if num%2 == 0 :\n",
        "  printf(num, \"은(는) 짝수입니다.\")\n",
        "else :\n",
        "  print(num, \"은(는) 홀수입니다.\")"
      ],
      "metadata": {
        "colab": {
          "base_uri": "https://localhost:8080/"
        },
        "id": "zEopwnwX5xC_",
        "outputId": "a848392e-1e8b-46b3-9061-cdd95a564451"
      },
      "execution_count": 6,
      "outputs": [
        {
          "output_type": "stream",
          "name": "stdout",
          "text": [
            "정수를 입력 ==>43\n",
            "43 은(는) 홀수입니다.\n"
          ]
        }
      ]
    },
    {
      "cell_type": "markdown",
      "source": [
        "형성평가"
      ],
      "metadata": {
        "id": "94NLWczF7YjE"
      }
    },
    {
      "cell_type": "code",
      "source": [
        "pound = int(input(\"파운드(lb)를 입력하세요 :\"))\n",
        "kg = pound * 0.453592\n",
        "print(pound, \"파운드(lb)는\", round(kg, 5), \"킬로그램 입니다.\")\n",
        "\n",
        "kg = int(input(\"킬로그램(kg)을 입력하세요 :\"))\n",
        "pound = kg * 2.204623\n",
        "print(kg, \"킬로그램(kg)은\", round(pound, 5), \"파운드(lb)입니다.\")"
      ],
      "metadata": {
        "colab": {
          "base_uri": "https://localhost:8080/"
        },
        "id": "I-nns9tU7bDe",
        "outputId": "28385ef7-0d60-44a8-cb0c-b95eaf9d23c2"
      },
      "execution_count": 9,
      "outputs": [
        {
          "output_type": "stream",
          "name": "stdout",
          "text": [
            "파운드(lb)를 입력하세요 :15\n",
            "15 파운드(lb)는 6.80388 킬로그램 입니다.\n",
            "킬로그램(kg)을 입력하세요 :15\n",
            "15 킬로그램(kg)은 33.06935 파운드(lb)입니다.\n"
          ]
        }
      ]
    },
    {
      "cell_type": "markdown",
      "source": [
        "bmi 계산기 bmi = kg/m**2"
      ],
      "metadata": {
        "id": "To5gRw7J98BZ"
      }
    },
    {
      "cell_type": "code",
      "source": [
        "weight = float(input(\"몸무계를 입력 ==>\"))\n",
        "height = float(input(\"키(신장)을 입력(cm) ==>\"))\n",
        "height = height * 0.01\n",
        "bmi = weight / (height * height)\n",
        "print(\"당신의 bmi : \", bmi)"
      ],
      "metadata": {
        "colab": {
          "base_uri": "https://localhost:8080/"
        },
        "id": "EXz9Imgk-BYJ",
        "outputId": "13bb78c7-c350-4b69-deba-e2591c40c9a6"
      },
      "execution_count": 11,
      "outputs": [
        {
          "output_type": "stream",
          "name": "stdout",
          "text": [
            "몸무계를 입력 ==>75\n",
            "키(신장)을 입력(cm) ==>165\n",
            "당신의 bmi :  27.548209366391177\n"
          ]
        }
      ]
    },
    {
      "cell_type": "markdown",
      "source": [
        "형성평가 : 편의점 하루 매출 계산하기"
      ],
      "metadata": {
        "id": "3OHQ7YTl_Npf"
      }
    },
    {
      "cell_type": "code",
      "source": [
        "total = 0\n",
        "\n",
        "#구입한 물품\n",
        "total -= 900 * 10 #삼각김밥 10개\n",
        "total -= 3500 * 5 #도시락 5개\n",
        "\n",
        "#판매한 물품\n",
        "total += 1800 * 2 #바나나맛 우유 2개\n",
        "total += 4000 * 4 #도시락 4개\n",
        "total += 1500 #콜라 1개\n",
        "total += 2000 * 4 #새우깡 4개\n",
        "total += 1800 * 5 #캔커피 5개\n",
        "\n",
        "print(\"오늘 총 매출액은 \", total, \"원입니다.\")"
      ],
      "metadata": {
        "colab": {
          "base_uri": "https://localhost:8080/"
        },
        "id": "ACpHWLCRAErn",
        "outputId": "91f1c268-3911-494c-841e-f91c42fa486f"
      },
      "execution_count": 14,
      "outputs": [
        {
          "output_type": "stream",
          "name": "stdout",
          "text": [
            "오늘 총 매출액은  11600 원입니다.\n"
          ]
        }
      ]
    },
    {
      "cell_type": "markdown",
      "source": [
        "비교 연산자 예제"
      ],
      "metadata": {
        "id": "AR08iWYeEeiO"
      }
    },
    {
      "cell_type": "code",
      "source": [
        "score = int(input(\"필기 시험점수를 입력하세요 ==>\"))\n",
        "print(score >= 70)"
      ],
      "metadata": {
        "colab": {
          "base_uri": "https://localhost:8080/"
        },
        "id": "8qv4VqfZE1Gc",
        "outputId": "9d618935-794e-4ceb-db87-aa26ce474ae4"
      },
      "execution_count": 16,
      "outputs": [
        {
          "output_type": "stream",
          "name": "stdout",
          "text": [
            "필기 시험점수를 입력하세요 ==>69\n",
            "False\n"
          ]
        }
      ]
    },
    {
      "cell_type": "markdown",
      "source": [
        "형성평가 : 기말 평균 학점 구하기"
      ],
      "metadata": {
        "id": "WB-E9L_JGP0c"
      }
    },
    {
      "cell_type": "code",
      "source": [
        "python = 3\n",
        "mobile = 2\n",
        "excel = 1\n",
        "\n",
        "A = 4.5\n",
        "AO = 4.0\n",
        "B = 3.5\n",
        "\n",
        "avg = ((python * B) + (mobile * AO) + (excel * A)) / (python + mobile + excel)\n",
        "print(\"평균 학점 : \", avg)"
      ],
      "metadata": {
        "colab": {
          "base_uri": "https://localhost:8080/"
        },
        "id": "qIORbh7rGTT0",
        "outputId": "01d9684b-26b1-4ed7-84f5-298ebac0fe3b"
      },
      "execution_count": 25,
      "outputs": [
        {
          "output_type": "stream",
          "name": "stdout",
          "text": [
            "평균 학점 :  3.8333333333333335\n"
          ]
        }
      ]
    },
    {
      "cell_type": "markdown",
      "source": [
        "실전예제 : 거북이 움직이기"
      ],
      "metadata": {
        "id": "4ZcoLMJ7IkvL"
      }
    },
    {
      "cell_type": "code",
      "source": [
        "#!pip3 install ColabTurtle\n",
        "import ColabTurtle .Turtle as turtle\n",
        "\n",
        "turtle.initializeTurtle()\n",
        "while True :\n",
        "  angle = int(input(\"거북이의 회전 각도 : \"))\n",
        "  if angle == 0 :\n",
        "    break;\n",
        "  distance = int(input(\"거북이의 이동거리 :\"))\n",
        "\n",
        "  turtle.left(angle)\n",
        "  turtle.forward(distance)\n",
        "  #print(angle, distance)"
      ],
      "metadata": {
        "colab": {
          "base_uri": "https://localhost:8080/",
          "height": 575
        },
        "id": "vpOB6PSeIn5c",
        "outputId": "b6d54496-a7c5-444f-8468-d4108ef3427a"
      },
      "execution_count": 39,
      "outputs": [
        {
          "output_type": "display_data",
          "data": {
            "text/plain": [
              "<IPython.core.display.HTML object>"
            ],
            "text/html": [
              "\n",
              "      <svg width=\"800\" height=\"500\">\n",
              "        <rect width=\"100%\" height=\"100%\" fill=\"black\"/>\n",
              "        <line x1=\"400\" y1=\"250\" x2=\"329.289\" y2=\"179.289\" stroke-linecap=\"round\" style=\"stroke:white;stroke-width:4\"/>\n",
              "        <g visibility=visible transform=\"rotate(315,329.289,179.289) translate(311.289, 161.289)\">\n",
              "<path style=\" stroke:none;fill-rule:evenodd;fill:white;fill-opacity:1;\" d=\"M 18.214844 0.632812 C 16.109375 1.800781 15.011719 4.074219 15.074219 7.132812 L 15.085938 7.652344 L 14.785156 7.496094 C 13.476562 6.824219 11.957031 6.671875 10.40625 7.066406 C 8.46875 7.550781 6.515625 9.15625 4.394531 11.992188 C 3.0625 13.777344 2.679688 14.636719 3.042969 15.027344 L 3.15625 15.152344 L 3.519531 15.152344 C 4.238281 15.152344 4.828125 14.886719 8.1875 13.039062 C 9.386719 12.378906 10.371094 11.839844 10.378906 11.839844 C 10.386719 11.839844 10.355469 11.929688 10.304688 12.035156 C 9.832031 13.09375 9.257812 14.820312 8.96875 16.078125 C 7.914062 20.652344 8.617188 24.53125 11.070312 27.660156 C 11.351562 28.015625 11.363281 27.914062 10.972656 28.382812 C 8.925781 30.84375 7.945312 33.28125 8.238281 35.1875 C 8.289062 35.527344 8.28125 35.523438 8.917969 35.523438 C 10.941406 35.523438 13.074219 34.207031 15.136719 31.6875 C 15.359375 31.417969 15.328125 31.425781 15.5625 31.574219 C 16.292969 32.042969 18.023438 32.964844 18.175781 32.964844 C 18.335938 32.964844 19.941406 32.210938 20.828125 31.71875 C 20.996094 31.625 21.136719 31.554688 21.136719 31.558594 C 21.203125 31.664062 21.898438 32.414062 22.222656 32.730469 C 23.835938 34.300781 25.5625 35.132812 27.582031 35.300781 C 27.90625 35.328125 27.9375 35.308594 28.007812 34.984375 C 28.382812 33.242188 27.625 30.925781 25.863281 28.425781 L 25.542969 27.96875 L 25.699219 27.785156 C 28.945312 23.960938 29.132812 18.699219 26.257812 11.96875 L 26.207031 11.84375 L 27.945312 12.703125 C 31.53125 14.476562 32.316406 14.800781 33.03125 14.800781 C 33.976562 14.800781 33.78125 13.9375 32.472656 12.292969 C 28.519531 7.355469 25.394531 5.925781 21.921875 7.472656 L 21.558594 7.636719 L 21.578125 7.542969 C 21.699219 6.992188 21.761719 5.742188 21.699219 5.164062 C 21.496094 3.296875 20.664062 1.964844 19.003906 0.855469 C 18.480469 0.503906 18.457031 0.5 18.214844 0.632812\"/>\n",
              "</g>\n",
              "      </svg>\n",
              "    "
            ]
          },
          "metadata": {}
        },
        {
          "name": "stdout",
          "output_type": "stream",
          "text": [
            "거북이의 회전 각도 : 45\n",
            "거북이의 이동거리 :100\n",
            "거북이의 회전 각도 : 0\n"
          ]
        }
      ]
    }
  ]
}