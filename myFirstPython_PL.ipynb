{
  "nbformat": 4,
  "nbformat_minor": 0,
  "metadata": {
    "colab": {
      "name": "myFirstPython-PL.ipynb",
      "provenance": [],
      "authorship_tag": "ABX9TyNHkA7AGLsQMAy3Op5M1cYp",
      "include_colab_link": true
    },
    "kernelspec": {
      "name": "python3",
      "display_name": "Python 3"
    },
    "language_info": {
      "name": "python"
    }
  },
  "cells": [
    {
      "cell_type": "markdown",
      "metadata": {
        "id": "view-in-github",
        "colab_type": "text"
      },
      "source": [
        "<a href=\"https://colab.research.google.com/github/HannaSuh0/colab/blob/main/myFirstPython_PL.ipynb\" target=\"_parent\"><img src=\"https://colab.research.google.com/assets/colab-badge.svg\" alt=\"Open In Colab\"/></a>"
      ]
    },
    {
      "cell_type": "code",
      "execution_count": 2,
      "metadata": {
        "colab": {
          "base_uri": "https://localhost:8080/",
          "height": 137
        },
        "id": "bX5vpwqUDHtU",
        "outputId": "e3bbbc37-318e-4d91-86bc-8c954247108d"
      },
      "outputs": [
        {
          "output_type": "error",
          "ename": "SyntaxError",
          "evalue": "ignored",
          "traceback": [
            "\u001b[0;36m  File \u001b[0;32m\"<ipython-input-2-d833e907512e>\"\u001b[0;36m, line \u001b[0;32m1\u001b[0m\n\u001b[0;31m    나의 첫 파이썬 프로그래밍\u001b[0m\n\u001b[0m       ^\u001b[0m\n\u001b[0;31mSyntaxError\u001b[0m\u001b[0;31m:\u001b[0m invalid syntax\n"
          ]
        }
      ],
      "source": [
        "나의 첫 파이썬 프로그래밍"
      ]
    },
    {
      "cell_type": "code",
      "source": [
        "print(\"컴퓨터과 3학년 1반 11번 서한나\")"
      ],
      "metadata": {
        "id": "smFn6_ZuDq9-"
      },
      "execution_count": null,
      "outputs": []
    }
  ]
}