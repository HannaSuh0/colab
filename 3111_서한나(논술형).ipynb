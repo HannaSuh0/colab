{
  "nbformat": 4,
  "nbformat_minor": 0,
  "metadata": {
    "colab": {
      "name": "3111-서한나(논술형).ipynb",
      "provenance": [],
      "authorship_tag": "ABX9TyN9432jTMXxctrlKdtjBbjv",
      "include_colab_link": true
    },
    "kernelspec": {
      "name": "python3",
      "display_name": "Python 3"
    },
    "language_info": {
      "name": "python"
    }
  },
  "cells": [
    {
      "cell_type": "markdown",
      "metadata": {
        "id": "view-in-github",
        "colab_type": "text"
      },
      "source": [
        "<a href=\"https://colab.research.google.com/github/HannaSuh0/colab/blob/main/3111_%EC%84%9C%ED%95%9C%EB%82%98(%EB%85%BC%EC%88%A0%ED%98%95).ipynb\" target=\"_parent\"><img src=\"https://colab.research.google.com/assets/colab-badge.svg\" alt=\"Open In Colab\"/></a>"
      ]
    },
    {
      "cell_type": "markdown",
      "source": [
        "2022학년도 응용프로그래밍 개발 - 논술형\n",
        "\n",
        "컴퓨터과 3학년 1반 11번 서한나"
      ],
      "metadata": {
        "id": "q7mnoBBn6q1Q"
      }
    },
    {
      "cell_type": "code",
      "source": [
        "num1 = int(input(\"숫자1 ==> \"))\n",
        "num2 = int(input(\"숫자2 ==> \"))\n",
        "\n",
        "result1 = num1 + num2\n",
        "result2 = num1 - num2\n",
        "result3 = num1 * num2\n",
        "result4 = num1 / num2\n",
        "result5 = num1 % num2\n",
        "result6 = num1 ** num2\n",
        "\n",
        "print(num1, \"+\", num2, \"=\", result1)\n",
        "print(num1, \"-\", num2, \"=\", result2)\n",
        "print(num1, \"*\", num2, \"=\", result3)\n",
        "print(num1, \"/\", num2, \"=\", result4)\n",
        "print(num1, \"%\", num2, \"=\", result5 )\n",
        "print(num1, \"**\", num2, \"=\", result6 )"
      ],
      "metadata": {
        "colab": {
          "base_uri": "https://localhost:8080/"
        },
        "id": "SLnh9bTW63o4",
        "outputId": "469c5dc0-7638-40b7-f975-e43934065322"
      },
      "execution_count": 20,
      "outputs": [
        {
          "output_type": "stream",
          "name": "stdout",
          "text": [
            "숫자1 ==> 10\n",
            "숫자2 ==> 20\n",
            "10 + 20 = 30\n",
            "10 - 20 = -10\n",
            "10 * 20 = 200\n",
            "10 / 20 = 0.5\n",
            "10 % 20 = 10\n",
            "10 ** 20 = 100000000000000000000\n"
          ]
        }
      ]
    }
  ]
}