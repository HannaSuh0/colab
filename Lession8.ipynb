{
  "nbformat": 4,
  "nbformat_minor": 0,
  "metadata": {
    "colab": {
      "provenance": [],
      "authorship_tag": "ABX9TyPie2Ou2sPfVJzWe0gYlPqS",
      "include_colab_link": true
    },
    "kernelspec": {
      "name": "python3",
      "display_name": "Python 3"
    },
    "language_info": {
      "name": "python"
    }
  },
  "cells": [
    {
      "cell_type": "markdown",
      "metadata": {
        "id": "view-in-github",
        "colab_type": "text"
      },
      "source": [
        "<a href=\"https://colab.research.google.com/github/HannaSuh0/colab/blob/main/Lession8.ipynb\" target=\"_parent\"><img src=\"https://colab.research.google.com/assets/colab-badge.svg\" alt=\"Open In Colab\"/></a>"
      ]
    },
    {
      "cell_type": "code",
      "execution_count": 1,
      "metadata": {
        "colab": {
          "base_uri": "https://localhost:8080/"
        },
        "id": "ccAv5ylEhlH_",
        "outputId": "8b56553c-2a8b-46c4-8638-853cefac66a4"
      },
      "outputs": [
        {
          "output_type": "stream",
          "name": "stdout",
          "text": [
            "난생처음 파이썬\n"
          ]
        }
      ],
      "source": [
        "print(\"난생처음 파이썬\")"
      ]
    },
    {
      "cell_type": "code",
      "source": [
        "num = int(\"1234\")\n",
        "print(num)"
      ],
      "metadata": {
        "colab": {
          "base_uri": "https://localhost:8080/"
        },
        "id": "MZ3WXDxbhvIn",
        "outputId": "aebf81f8-2400-4a11-a203-0d537f590fe9"
      },
      "execution_count": 2,
      "outputs": [
        {
          "output_type": "stream",
          "name": "stdout",
          "text": [
            "1234\n"
          ]
        }
      ]
    },
    {
      "cell_type": "code",
      "source": [
        "print(\"A님. 두 숫자를 입력하세요\")\n",
        "num1 = int(input(\"정수1 ==>\"))\n",
        "num2 = int(input(\"정수2 ==>\"))\n",
        "hap = num1 + num2\n",
        "print(\"결과 :\", hap)\n",
        "\n",
        "print(\"B님. 두 숫자를 입력하세요\")\n",
        "num1 = int(input(\"정수1 ==>\"))\n",
        "num2 = int(input(\"정수2 ==>\"))\n",
        "hap = num1 + num2\n",
        "print(\"결과 :\", hap)\n",
        "\n",
        "print(\"C님. 두 숫자를 입력하세요\")\n",
        "num1 = int(input(\"정수1 ==>\"))\n",
        "num2 = int(input(\"정수2 ==>\"))\n",
        "hap = num1 + num2\n",
        "print(\"결과 :\", hap)4"
      ],
      "metadata": {
        "colab": {
          "base_uri": "https://localhost:8080/"
        },
        "id": "c1py3Y7uh9UX",
        "outputId": "aa55e5ce-2c09-4de6-e3b6-1fb00c78e9d5"
      },
      "execution_count": 3,
      "outputs": [
        {
          "output_type": "stream",
          "name": "stdout",
          "text": [
            "A님. 두 숫자를 입력하세요\n",
            "정수1 ==>5\n",
            "정수2 ==>6\n",
            "결과 : 11\n",
            "B님. 두 숫자를 입력하세요\n",
            "정수1 ==>8\n",
            "정수2 ==>9\n",
            "결과 : 17\n",
            "C님. 두 숫자를 입력하세요\n",
            "정수1 ==>7\n",
            "정수2 ==>4\n",
            "결과 : 11\n"
          ]
        }
      ]
    },
    {
      "cell_type": "code",
      "source": [
        "def hapFunc() :\n",
        "  num1 = int(input(\"정수1 ==>\"))\n",
        "  num2 = int(input(\"정수2 ==>\"))\n",
        "  return num1 + num2\n",
        "\n",
        "print(\"A님. 두 숫자를 입력하세요\")\n",
        "hap = hapFunc()\n",
        "print(\"결과 :\", hap)\n",
        "\n",
        "print(\"B님. 두 숫자를 입력하세요\")\n",
        "hap = hapFunc()\n",
        "print(\"결과 :\", hap)\n",
        "\n",
        "print(\"C님. 두 숫자를 입력하세요\")\n",
        "hap = hapFunc()\n",
        "print(\"결과 :\", hap)\n",
        "\n"
      ],
      "metadata": {
        "colab": {
          "base_uri": "https://localhost:8080/"
        },
        "id": "L7PP-izHiatX",
        "outputId": "55db3ad0-aac5-46c8-b23a-0a618c0d8bd8"
      },
      "execution_count": 4,
      "outputs": [
        {
          "output_type": "stream",
          "name": "stdout",
          "text": [
            "A님. 두 숫자를 입력하세요\n",
            "정수1 ==>4\n",
            "정수2 ==>9\n",
            "결과 : 13\n",
            "B님. 두 숫자를 입력하세요\n",
            "정수1 ==>5\n",
            "정수2 ==>45\n",
            "결과 : 50\n",
            "C님. 두 숫자를 입력하세요\n",
            "정수1 ==>5\n",
            "정수2 ==>98\n",
            "결과 : 103\n"
          ]
        }
      ]
    },
    {
      "cell_type": "markdown",
      "source": [
        "형성평가 : 소스코드"
      ],
      "metadata": {
        "id": "qykVTd4EjxL-"
      }
    },
    {
      "cell_type": "code",
      "source": [
        "def calc (v1, v2, op) :\n",
        "  result = 0\n",
        "  if op == '+' :\n",
        "    rusult = vl + v2\n",
        "  elif op == '-' :\n",
        "    rusult = vl - v2\n",
        "  elif op == '*' :\n",
        "    result = v1 * v2\n",
        "  elif op == '/' :\n",
        "    result = v1 / v2\n",
        "  return result\n",
        "\n",
        "res = 0\n",
        "var1, var2, oper = 0, 0, \"\"\n",
        "\n",
        "oper = input(\"계산 입력 ( +, -, *, / ) : \" )\n",
        "var1 = int(input(\"첫 번째 숫자 입력 : \"))\n",
        "var2 = int(input(\"두 번째 숫자 입력 : \"))\n",
        "\n",
        "res = calc (var1, var2, oper)\n",
        "print(\"## 계산기 : \", var1, oper, var2, \"=\", res)"
      ],
      "metadata": {
        "colab": {
          "base_uri": "https://localhost:8080/"
        },
        "id": "Igkod1q-i3Mx",
        "outputId": "2b778b25-d73d-440a-b1aa-57521dc7869e"
      },
      "execution_count": 5,
      "outputs": [
        {
          "output_type": "stream",
          "name": "stdout",
          "text": [
            "계산 입력 ( +, -, *, / ) : *\n",
            "첫 번째 숫자 입력 : 9\n",
            "두 번째 숫자 입력 : 9\n",
            "## 계산기 :  9 * 9 = 81\n"
          ]
        }
      ]
    },
    {
      "cell_type": "code",
      "source": [
        "def para2_func(v1, v2) :\n",
        "  result = 0\n",
        "  result = v1 + v2\n",
        "  return result\n",
        "\n",
        "def para3_func(v1, v2, v3) :\n",
        "  result = 0\n",
        "  result = v1 + v2 + v3\n",
        "  return result\n",
        "\n",
        "hap = 0\n",
        "\n",
        "hap = para2_func(10, 20)\n",
        "print(\"매개변수 2개 함수 호출 결과 ==> \", hap)\n",
        "hap = para3_func(10, 20, 30)\n",
        "print(\"매개변수 3개 함수 호출 결과 ==> \", hap)"
      ],
      "metadata": {
        "colab": {
          "base_uri": "https://localhost:8080/"
        },
        "id": "XTGXHTU4j27u",
        "outputId": "9036659e-0478-4dd9-9bae-72e8bae62373"
      },
      "execution_count": 7,
      "outputs": [
        {
          "output_type": "stream",
          "name": "stdout",
          "text": [
            "매개변수 2개 함수 호출 결과 ==>  30\n",
            "매개변수 3개 함수 호출 결과 ==>  60\n"
          ]
        }
      ]
    },
    {
      "cell_type": "code",
      "source": [
        "def func2() :\n",
        "  result = 100\n",
        "  return result\n",
        "\n",
        "hap = 0\n",
        "\n",
        "hap = func2()\n",
        "print(\"func2()에서 돌려준 값 ==> \", hap)"
      ],
      "metadata": {
        "colab": {
          "base_uri": "https://localhost:8080/"
        },
        "id": "aFvJ1afmkaOo",
        "outputId": "bca12cef-657b-435a-b21b-b1036a4d714c"
      },
      "execution_count": 8,
      "outputs": [
        {
          "output_type": "stream",
          "name": "stdout",
          "text": [
            "func2()에서 돌려준 값 ==>  100\n"
          ]
        }
      ]
    },
    {
      "cell_type": "code",
      "source": [
        "def func3() :\n",
        "  result1 = 100\n",
        "  result2 = 100\n",
        "  return result1, result2\n",
        "\n",
        "hap1, hap2 = 0, 0\n",
        "\n",
        "hap1, hap2 = func3()\n",
        "print(\"func3()에서 돌려준 값 ==> \", hap1, hap2)"
      ],
      "metadata": {
        "colab": {
          "base_uri": "https://localhost:8080/"
        },
        "id": "t6J3LENFkoXh",
        "outputId": "62727637-3bc8-46e6-c774-d807ca5859af"
      },
      "execution_count": 9,
      "outputs": [
        {
          "output_type": "stream",
          "name": "stdout",
          "text": [
            "func3()에서 돌려준 값 ==>  100 100\n"
          ]
        }
      ]
    },
    {
      "cell_type": "markdown",
      "source": [
        "형성평가 : 소스코드"
      ],
      "metadata": {
        "id": "7gyidAu6k5yh"
      }
    },
    {
      "cell_type": "code",
      "source": [
        "import random \n",
        "\n",
        "def lottoFunc() :\n",
        "    lottoNum = random.randint(1, 45)\n",
        "    return lottoNum\n",
        "  \n",
        "lottoList = []\n",
        "num = 0\n",
        "\n",
        "print(\"** 로또 추첨을 시작합니다. ** \\n\");\n",
        "while True :\n",
        "    num = lottoFunc()\n",
        "\n",
        "    if num in lottoList :\n",
        "      continue\n",
        "    else :\n",
        "      lottoList.append(num)\n",
        "\n",
        "    if len(lottoList) == 6 :\n",
        "      break\n",
        "\n",
        "print(\"오늘의 로또 번호 ==> \", end=\"\")\n",
        "lottoList.sort()\n",
        "\n",
        "for i in range(6) :\n",
        "  print(lottoList[i], \" \", end=\"\")"
      ],
      "metadata": {
        "colab": {
          "base_uri": "https://localhost:8080/"
        },
        "id": "SAIF1rnuk7QY",
        "outputId": "eaca0473-7207-4013-f4cb-32fc4f76a381"
      },
      "execution_count": 10,
      "outputs": [
        {
          "output_type": "stream",
          "name": "stdout",
          "text": [
            "** 로또 추첨을 시작합니다. ** \n",
            "\n",
            "오늘의 로또 번호 ==> 3  7  20  33  37  41  "
          ]
        }
      ]
    },
    {
      "cell_type": "code",
      "source": [
        "def func1() :\n",
        "  a = 10\n",
        "  print(\"func1()에서 a의 값 \", a)\n",
        "  \n",
        "def func2() :\n",
        "  print(\"func2()에서 a의 값 \", a)\n",
        "\n",
        "a = 20\n",
        "\n",
        "func1()\n",
        "func2()"
      ],
      "metadata": {
        "colab": {
          "base_uri": "https://localhost:8080/"
        },
        "id": "IukBG98bluT0",
        "outputId": "d17a1f94-9574-4704-d0ef-5f2ae8c77517"
      },
      "execution_count": 11,
      "outputs": [
        {
          "output_type": "stream",
          "name": "stdout",
          "text": [
            "func1()에서 a의 값  10\n",
            "func2()에서 a의 값  20\n"
          ]
        }
      ]
    },
    {
      "cell_type": "markdown",
      "source": [
        "형성평가 : 소스코드"
      ],
      "metadata": {
        "id": "ghA6iIfCmW2h"
      }
    },
    {
      "cell_type": "code",
      "source": [
        "from datetime import datetime, timedelta\n",
        "\n",
        "def getCurrent() :\n",
        "    curDate = datetime.now()\n",
        "    return curDate\n",
        "  \n",
        "def getAfterDate(now, day) :\n",
        "    retDate = now + timedelta(days = day)\n",
        "    return retDate\n",
        "\n",
        "nowDate, afterDate = None, None\n",
        "\n",
        "nowDate = getCurrent()\n",
        "print(\"현재 날짜와 시간 ==> \", nowDate)\n",
        "afterDate = getAfterDate(nowDate, 100)\n",
        "print(\"100일 후 날짜와 시간 ==> \", afterDate)\n",
        "\n"
      ],
      "metadata": {
        "colab": {
          "base_uri": "https://localhost:8080/"
        },
        "id": "e8QUHEikmYVB",
        "outputId": "d0fdf84d-29fc-4b50-fb94-a8a1344e4331"
      },
      "execution_count": 15,
      "outputs": [
        {
          "output_type": "stream",
          "name": "stdout",
          "text": [
            "현재 날짜와 시간 ==>  2022-10-21 03:35:29.557569\n",
            "100일 후 날짜와 시간 ==>  2023-01-29 03:35:29.557569\n"
          ]
        }
      ]
    },
    {
      "cell_type": "markdown",
      "source": [
        "형성평가 : 소스코드"
      ],
      "metadata": {
        "id": "qX-CZn6vnGns"
      }
    },
    {
      "cell_type": "code",
      "source": [
        "def checkPassword(pwd) :\n",
        "    if len(pwd) <8 :\n",
        "      return False\n",
        "\n",
        "    if pwd.isalnum() :\n",
        "      return True\n",
        "    else : \n",
        "      return False\n",
        "\n",
        "prassword = \"\"\n",
        "\n",
        "prassword = input(\"새로운 비밀번호를 입력하세요 : \")\n",
        "\n",
        "if checkPassword(password) :\n",
        "  \n",
        "  print(\"Good ~ 비밀번호가 올바르게 생성 되었어요\")\n",
        "else :\n",
        "  print(\"오류 ! 비밀번호가 규칙에 맞지 않습니다\")"
      ],
      "metadata": {
        "colab": {
          "base_uri": "https://localhost:8080/",
          "height": 263
        },
        "id": "Ij9EH1HknIXq",
        "outputId": "188b5124-0a69-440b-a007-3be926d5993e"
      },
      "execution_count": 20,
      "outputs": [
        {
          "name": "stdout",
          "output_type": "stream",
          "text": [
            "새로운 비밀번호를 입력하세요 : 1234abcd\n"
          ]
        },
        {
          "output_type": "error",
          "ename": "NameError",
          "evalue": "ignored",
          "traceback": [
            "\u001b[0;31m---------------------------------------------------------------------------\u001b[0m",
            "\u001b[0;31mNameError\u001b[0m                                 Traceback (most recent call last)",
            "\u001b[0;32m<ipython-input-20-61cdcfe6506f>\u001b[0m in \u001b[0;36m<module>\u001b[0;34m\u001b[0m\n\u001b[1;32m     12\u001b[0m \u001b[0mprassword\u001b[0m \u001b[0;34m=\u001b[0m \u001b[0minput\u001b[0m\u001b[0;34m(\u001b[0m\u001b[0;34m\"새로운 비밀번호를 입력하세요 : \"\u001b[0m\u001b[0;34m)\u001b[0m\u001b[0;34m\u001b[0m\u001b[0;34m\u001b[0m\u001b[0m\n\u001b[1;32m     13\u001b[0m \u001b[0;34m\u001b[0m\u001b[0m\n\u001b[0;32m---> 14\u001b[0;31m \u001b[0;32mif\u001b[0m \u001b[0mcheckPassword\u001b[0m\u001b[0;34m(\u001b[0m\u001b[0mpassword\u001b[0m\u001b[0;34m)\u001b[0m \u001b[0;34m:\u001b[0m\u001b[0;34m\u001b[0m\u001b[0;34m\u001b[0m\u001b[0m\n\u001b[0m\u001b[1;32m     15\u001b[0m \u001b[0;34m\u001b[0m\u001b[0m\n\u001b[1;32m     16\u001b[0m   \u001b[0mprint\u001b[0m\u001b[0;34m(\u001b[0m\u001b[0;34m\"Good ~ 비밀번호가 올바르게 생성 되었어요\"\u001b[0m\u001b[0;34m)\u001b[0m\u001b[0;34m\u001b[0m\u001b[0;34m\u001b[0m\u001b[0m\n",
            "\u001b[0;31mNameError\u001b[0m: name 'password' is not defined"
          ]
        }
      ]
    },
    {
      "cell_type": "code",
      "source": [
        "import turtle\n",
        "import random\n",
        "\n",
        "def getXYAS() :\n",
        "    x, y, size = 0, 0, 0\n",
        "    x = random.randint(-250, 250)\n",
        "    y = random.randint(-250, 250)\n",
        "    size = random.randint(10, 50)\n",
        "    return x, y, size\n",
        "\n",
        "koreanStr = \"\"\" 나랏말싸미 듕귁에 달아 문자와로 서르 사맛디 아니할쎄\n",
        "이런 젼챠로 어린 백셩이 니르고져 홀 배 이셔도\n",
        "마참내 제 뜨들 시러펴디 몯 할 노미 하니라\n",
        "내 이랄 위하야 어엿비 너겨 새로 스믈 여듧 짜랄 맹가노니\n",
        "사람마다 해여 수비 니겨 나로 쑤메 뼌한킈 하고져 할따라미니라\n",
        "\"\"\"\n",
        "colorList = [\"red\", \"green\", \"blue\", \"black\", \"magenta\", \"orange\", \"gray\"]\n",
        "tx, ty, txtSize = 0, 0, 0\n",
        "\n",
        "turtle.shape(\"turtle\")\n",
        "turtle.setup(550,550)\n",
        "turtle.screensize(500,500)\n",
        "turtle.penup\n",
        "turtle.speed(5)\n",
        "\n",
        "for ch in koreanStr :\n",
        "    tx, ty, txtSize = getXYAS()\n",
        "    color = random.choice(colorList)\n",
        "    turtle.goto(tx, ty)\n",
        "    turtle.pencolor(color)\n",
        "    turtle.write(ch, font=(\"맑은고딕\", txtSize, \"bold\"))\n",
        "turtle.done()"
      ],
      "metadata": {
        "colab": {
          "base_uri": "https://localhost:8080/",
          "height": 432
        },
        "id": "KBORBm_x_FZc",
        "outputId": "cebe4124-4c4c-4503-eac4-92565fc8f948"
      },
      "execution_count": 27,
      "outputs": [
        {
          "output_type": "error",
          "ename": "TclError",
          "evalue": "ignored",
          "traceback": [
            "\u001b[0;31m---------------------------------------------------------------------------\u001b[0m",
            "\u001b[0;31mTclError\u001b[0m                                  Traceback (most recent call last)",
            "\u001b[0;32m<ipython-input-27-b25c32eac38a>\u001b[0m in \u001b[0;36m<module>\u001b[0;34m\u001b[0m\n\u001b[1;32m     18\u001b[0m \u001b[0mtx\u001b[0m\u001b[0;34m,\u001b[0m \u001b[0mty\u001b[0m\u001b[0;34m,\u001b[0m \u001b[0mtxtSize\u001b[0m \u001b[0;34m=\u001b[0m \u001b[0;36m0\u001b[0m\u001b[0;34m,\u001b[0m \u001b[0;36m0\u001b[0m\u001b[0;34m,\u001b[0m \u001b[0;36m0\u001b[0m\u001b[0;34m\u001b[0m\u001b[0;34m\u001b[0m\u001b[0m\n\u001b[1;32m     19\u001b[0m \u001b[0;34m\u001b[0m\u001b[0m\n\u001b[0;32m---> 20\u001b[0;31m \u001b[0mturtle\u001b[0m\u001b[0;34m.\u001b[0m\u001b[0mshape\u001b[0m\u001b[0;34m(\u001b[0m\u001b[0;34m\"turtle\"\u001b[0m\u001b[0;34m)\u001b[0m\u001b[0;34m\u001b[0m\u001b[0;34m\u001b[0m\u001b[0m\n\u001b[0m\u001b[1;32m     21\u001b[0m \u001b[0mturtle\u001b[0m\u001b[0;34m.\u001b[0m\u001b[0msetup\u001b[0m\u001b[0;34m(\u001b[0m\u001b[0;36m550\u001b[0m\u001b[0;34m,\u001b[0m\u001b[0;36m550\u001b[0m\u001b[0;34m)\u001b[0m\u001b[0;34m\u001b[0m\u001b[0;34m\u001b[0m\u001b[0m\n\u001b[1;32m     22\u001b[0m \u001b[0mturtle\u001b[0m\u001b[0;34m.\u001b[0m\u001b[0mscreensize\u001b[0m\u001b[0;34m(\u001b[0m\u001b[0;36m500\u001b[0m\u001b[0;34m,\u001b[0m\u001b[0;36m500\u001b[0m\u001b[0;34m)\u001b[0m\u001b[0;34m\u001b[0m\u001b[0;34m\u001b[0m\u001b[0m\n",
            "\u001b[0;32m/usr/lib/python3.7/turtle.py\u001b[0m in \u001b[0;36mshape\u001b[0;34m(name)\u001b[0m\n",
            "\u001b[0;32m/usr/lib/python3.7/turtle.py\u001b[0m in \u001b[0;36m__init__\u001b[0;34m(self, shape, undobuffersize, visible)\u001b[0m\n\u001b[1;32m   3810\u001b[0m                  visible=_CFG[\"visible\"]):\n\u001b[1;32m   3811\u001b[0m         \u001b[0;32mif\u001b[0m \u001b[0mTurtle\u001b[0m\u001b[0;34m.\u001b[0m\u001b[0m_screen\u001b[0m \u001b[0;32mis\u001b[0m \u001b[0;32mNone\u001b[0m\u001b[0;34m:\u001b[0m\u001b[0;34m\u001b[0m\u001b[0;34m\u001b[0m\u001b[0m\n\u001b[0;32m-> 3812\u001b[0;31m             \u001b[0mTurtle\u001b[0m\u001b[0;34m.\u001b[0m\u001b[0m_screen\u001b[0m \u001b[0;34m=\u001b[0m \u001b[0mScreen\u001b[0m\u001b[0;34m(\u001b[0m\u001b[0;34m)\u001b[0m\u001b[0;34m\u001b[0m\u001b[0;34m\u001b[0m\u001b[0m\n\u001b[0m\u001b[1;32m   3813\u001b[0m         RawTurtle.__init__(self, Turtle._screen,\n\u001b[1;32m   3814\u001b[0m                            \u001b[0mshape\u001b[0m\u001b[0;34m=\u001b[0m\u001b[0mshape\u001b[0m\u001b[0;34m,\u001b[0m\u001b[0;34m\u001b[0m\u001b[0;34m\u001b[0m\u001b[0m\n",
            "\u001b[0;32m/usr/lib/python3.7/turtle.py\u001b[0m in \u001b[0;36mScreen\u001b[0;34m()\u001b[0m\n\u001b[1;32m   3660\u001b[0m     else return the existing one.\"\"\"\n\u001b[1;32m   3661\u001b[0m     \u001b[0;32mif\u001b[0m \u001b[0mTurtle\u001b[0m\u001b[0;34m.\u001b[0m\u001b[0m_screen\u001b[0m \u001b[0;32mis\u001b[0m \u001b[0;32mNone\u001b[0m\u001b[0;34m:\u001b[0m\u001b[0;34m\u001b[0m\u001b[0;34m\u001b[0m\u001b[0m\n\u001b[0;32m-> 3662\u001b[0;31m         \u001b[0mTurtle\u001b[0m\u001b[0;34m.\u001b[0m\u001b[0m_screen\u001b[0m \u001b[0;34m=\u001b[0m \u001b[0m_Screen\u001b[0m\u001b[0;34m(\u001b[0m\u001b[0;34m)\u001b[0m\u001b[0;34m\u001b[0m\u001b[0;34m\u001b[0m\u001b[0m\n\u001b[0m\u001b[1;32m   3663\u001b[0m     \u001b[0;32mreturn\u001b[0m \u001b[0mTurtle\u001b[0m\u001b[0;34m.\u001b[0m\u001b[0m_screen\u001b[0m\u001b[0;34m\u001b[0m\u001b[0;34m\u001b[0m\u001b[0m\n\u001b[1;32m   3664\u001b[0m \u001b[0;34m\u001b[0m\u001b[0m\n",
            "\u001b[0;32m/usr/lib/python3.7/turtle.py\u001b[0m in \u001b[0;36m__init__\u001b[0;34m(self)\u001b[0m\n\u001b[1;32m   3676\u001b[0m         \u001b[0;31m# preserved (perhaps by passing it as an optional parameter)\u001b[0m\u001b[0;34m\u001b[0m\u001b[0;34m\u001b[0m\u001b[0;34m\u001b[0m\u001b[0m\n\u001b[1;32m   3677\u001b[0m         \u001b[0;32mif\u001b[0m \u001b[0m_Screen\u001b[0m\u001b[0;34m.\u001b[0m\u001b[0m_root\u001b[0m \u001b[0;32mis\u001b[0m \u001b[0;32mNone\u001b[0m\u001b[0;34m:\u001b[0m\u001b[0;34m\u001b[0m\u001b[0;34m\u001b[0m\u001b[0m\n\u001b[0;32m-> 3678\u001b[0;31m             \u001b[0m_Screen\u001b[0m\u001b[0;34m.\u001b[0m\u001b[0m_root\u001b[0m \u001b[0;34m=\u001b[0m \u001b[0mself\u001b[0m\u001b[0;34m.\u001b[0m\u001b[0m_root\u001b[0m \u001b[0;34m=\u001b[0m \u001b[0m_Root\u001b[0m\u001b[0;34m(\u001b[0m\u001b[0;34m)\u001b[0m\u001b[0;34m\u001b[0m\u001b[0;34m\u001b[0m\u001b[0m\n\u001b[0m\u001b[1;32m   3679\u001b[0m             \u001b[0mself\u001b[0m\u001b[0;34m.\u001b[0m\u001b[0m_root\u001b[0m\u001b[0;34m.\u001b[0m\u001b[0mtitle\u001b[0m\u001b[0;34m(\u001b[0m\u001b[0m_Screen\u001b[0m\u001b[0;34m.\u001b[0m\u001b[0m_title\u001b[0m\u001b[0;34m)\u001b[0m\u001b[0;34m\u001b[0m\u001b[0;34m\u001b[0m\u001b[0m\n\u001b[1;32m   3680\u001b[0m             \u001b[0mself\u001b[0m\u001b[0;34m.\u001b[0m\u001b[0m_root\u001b[0m\u001b[0;34m.\u001b[0m\u001b[0mondestroy\u001b[0m\u001b[0;34m(\u001b[0m\u001b[0mself\u001b[0m\u001b[0;34m.\u001b[0m\u001b[0m_destroy\u001b[0m\u001b[0;34m)\u001b[0m\u001b[0;34m\u001b[0m\u001b[0;34m\u001b[0m\u001b[0m\n",
            "\u001b[0;32m/usr/lib/python3.7/turtle.py\u001b[0m in \u001b[0;36m__init__\u001b[0;34m(self)\u001b[0m\n\u001b[1;32m    432\u001b[0m     \u001b[0;34m\"\"\"Root class for Screen based on Tkinter.\"\"\"\u001b[0m\u001b[0;34m\u001b[0m\u001b[0;34m\u001b[0m\u001b[0m\n\u001b[1;32m    433\u001b[0m     \u001b[0;32mdef\u001b[0m \u001b[0m__init__\u001b[0m\u001b[0;34m(\u001b[0m\u001b[0mself\u001b[0m\u001b[0;34m)\u001b[0m\u001b[0;34m:\u001b[0m\u001b[0;34m\u001b[0m\u001b[0;34m\u001b[0m\u001b[0m\n\u001b[0;32m--> 434\u001b[0;31m         \u001b[0mTK\u001b[0m\u001b[0;34m.\u001b[0m\u001b[0mTk\u001b[0m\u001b[0;34m.\u001b[0m\u001b[0m__init__\u001b[0m\u001b[0;34m(\u001b[0m\u001b[0mself\u001b[0m\u001b[0;34m)\u001b[0m\u001b[0;34m\u001b[0m\u001b[0;34m\u001b[0m\u001b[0m\n\u001b[0m\u001b[1;32m    435\u001b[0m \u001b[0;34m\u001b[0m\u001b[0m\n\u001b[1;32m    436\u001b[0m     \u001b[0;32mdef\u001b[0m \u001b[0msetupcanvas\u001b[0m\u001b[0;34m(\u001b[0m\u001b[0mself\u001b[0m\u001b[0;34m,\u001b[0m \u001b[0mwidth\u001b[0m\u001b[0;34m,\u001b[0m \u001b[0mheight\u001b[0m\u001b[0;34m,\u001b[0m \u001b[0mcwidth\u001b[0m\u001b[0;34m,\u001b[0m \u001b[0mcheight\u001b[0m\u001b[0;34m)\u001b[0m\u001b[0;34m:\u001b[0m\u001b[0;34m\u001b[0m\u001b[0;34m\u001b[0m\u001b[0m\n",
            "\u001b[0;32m/usr/lib/python3.7/tkinter/__init__.py\u001b[0m in \u001b[0;36m__init__\u001b[0;34m(self, screenName, baseName, className, useTk, sync, use)\u001b[0m\n\u001b[1;32m   2021\u001b[0m                 \u001b[0mbaseName\u001b[0m \u001b[0;34m=\u001b[0m \u001b[0mbaseName\u001b[0m \u001b[0;34m+\u001b[0m \u001b[0mext\u001b[0m\u001b[0;34m\u001b[0m\u001b[0;34m\u001b[0m\u001b[0m\n\u001b[1;32m   2022\u001b[0m         \u001b[0minteractive\u001b[0m \u001b[0;34m=\u001b[0m \u001b[0;36m0\u001b[0m\u001b[0;34m\u001b[0m\u001b[0;34m\u001b[0m\u001b[0m\n\u001b[0;32m-> 2023\u001b[0;31m         \u001b[0mself\u001b[0m\u001b[0;34m.\u001b[0m\u001b[0mtk\u001b[0m \u001b[0;34m=\u001b[0m \u001b[0m_tkinter\u001b[0m\u001b[0;34m.\u001b[0m\u001b[0mcreate\u001b[0m\u001b[0;34m(\u001b[0m\u001b[0mscreenName\u001b[0m\u001b[0;34m,\u001b[0m \u001b[0mbaseName\u001b[0m\u001b[0;34m,\u001b[0m \u001b[0mclassName\u001b[0m\u001b[0;34m,\u001b[0m \u001b[0minteractive\u001b[0m\u001b[0;34m,\u001b[0m \u001b[0mwantobjects\u001b[0m\u001b[0;34m,\u001b[0m \u001b[0museTk\u001b[0m\u001b[0;34m,\u001b[0m \u001b[0msync\u001b[0m\u001b[0;34m,\u001b[0m \u001b[0muse\u001b[0m\u001b[0;34m)\u001b[0m\u001b[0;34m\u001b[0m\u001b[0;34m\u001b[0m\u001b[0m\n\u001b[0m\u001b[1;32m   2024\u001b[0m         \u001b[0;32mif\u001b[0m \u001b[0museTk\u001b[0m\u001b[0;34m:\u001b[0m\u001b[0;34m\u001b[0m\u001b[0;34m\u001b[0m\u001b[0m\n\u001b[1;32m   2025\u001b[0m             \u001b[0mself\u001b[0m\u001b[0;34m.\u001b[0m\u001b[0m_loadtk\u001b[0m\u001b[0;34m(\u001b[0m\u001b[0;34m)\u001b[0m\u001b[0;34m\u001b[0m\u001b[0;34m\u001b[0m\u001b[0m\n",
            "\u001b[0;31mTclError\u001b[0m: no display name and no $DISPLAY environment variable"
          ]
        }
      ]
    },
    {
      "cell_type": "code",
      "source": [],
      "metadata": {
        "id": "AlkOQre9_scM"
      },
      "execution_count": null,
      "outputs": []
    }
  ]
}