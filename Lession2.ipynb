{
  "nbformat": 4,
  "nbformat_minor": 0,
  "metadata": {
    "colab": {
      "name": "Lession2.ipynb",
      "provenance": [],
      "authorship_tag": "ABX9TyOFLOqkCgM754vPu+FFtYc+",
      "include_colab_link": true
    },
    "kernelspec": {
      "name": "python3",
      "display_name": "Python 3"
    },
    "language_info": {
      "name": "python"
    }
  },
  "cells": [
    {
      "cell_type": "markdown",
      "metadata": {
        "id": "view-in-github",
        "colab_type": "text"
      },
      "source": [
        "<a href=\"https://colab.research.google.com/github/HannaSuh0/colab/blob/main/Lession2.ipynb\" target=\"_parent\"><img src=\"https://colab.research.google.com/assets/colab-badge.svg\" alt=\"Open In Colab\"/></a>"
      ]
    },
    {
      "cell_type": "markdown",
      "source": [
        ""
      ],
      "metadata": {
        "id": "mhzxoBLH1Hcm"
      }
    },
    {
      "cell_type": "code",
      "execution_count": 3,
      "metadata": {
        "colab": {
          "base_uri": "https://localhost:8080/"
        },
        "id": "A4f0keSe1Exc",
        "outputId": "b7d56c1e-fff7-462e-cbb1-771342067c6e"
      },
      "outputs": [
        {
          "output_type": "stream",
          "name": "stdout",
          "text": [
            "100 + 200 = 300\n",
            "100 - 200 = -100\n",
            "100 * 200 = 20000\n",
            "100 / 200 = 0.5\n"
          ]
        }
      ],
      "source": [
        "num1 = 100\n",
        "num2 = 200\n",
        "\n",
        "result1 = num1 + num2\n",
        "result2 = num1 - num2\n",
        "result3 = num1 * num2\n",
        "result4 = num1 / num2\n",
        "\n",
        "print(num1, \"+\", num2, \"=\", result1)\n",
        "print(num1, \"-\", num2, \"=\", result2)\n",
        "print(num1, \"*\", num2, \"=\", result3)\n",
        "print(num1, \"/\", num2, \"=\", result4)"
      ]
    },
    {
      "cell_type": "code",
      "source": [
        "print(\"## 택배를 보내기 위한 정보를 입력하세요. ##\")\n",
        "personName = input(\"받는 사람 : \")\n",
        "personAddr = input(\"주소 : \")\n",
        "weight = int(input(\"무게(g) :\"))\n",
        "\n",
        "print(\"** 받는 사람 ==>\", personName)\n",
        "print(\"** 주소 =>\", personAddr)\n",
        "\n",
        "print(\"** 배송비 ==>\", weight *5, \"원\")"
      ],
      "metadata": {
        "colab": {
          "base_uri": "https://localhost:8080/"
        },
        "id": "JYl53QTX18c7",
        "outputId": "79da23dd-0c6e-4a45-d786-cd97db4cf123"
      },
      "execution_count": 4,
      "outputs": [
        {
          "output_type": "stream",
          "name": "stdout",
          "text": [
            "## 택배를 보내기 위한 정보를 입력하세요. ##\n",
            "받는 사람 : 서한나\n",
            "주소 : 안산공고\n",
            "무게(g) :100\n",
            "** 받는 사람 ==> 서한나\n",
            "** 주소 => 안산공고\n",
            "** 배송비 ==> 500 원\n"
          ]
        }
      ]
    },
    {
      "cell_type": "code",
      "source": [
        "num1 = int(input(\"숫자1 ==> \"))\n",
        "num2 = int(input(\"숫자2 ==> \"))\n",
        "\n",
        "result1 = num1 + num2\n",
        "result2 = num1 - num2\n",
        "result3 = num1 * num2\n",
        "result4 = num1 / num2\n",
        "result5 = num1 % num2\n",
        "result6 = num1 ** num2\n",
        "\n",
        "print(num1, \"+\", num2, \"=\", result1 )\n",
        "print(num1, \"-\", num2, \"=\", result2 )\n",
        "print(num1, \"*\", num2, \"=\", result3 )\n",
        "print(num1, \"/\", num2, \"=\", result4 )\n",
        "print(num1, \"%\", num2, \"=\", result5 )\n",
        "print(num1, \"**\", num2, \"=\", result6 )\n"
      ],
      "metadata": {
        "colab": {
          "base_uri": "https://localhost:8080/"
        },
        "id": "c66hVhMc2fxt",
        "outputId": "9638abbe-7970-4641-e991-47389efd9e43"
      },
      "execution_count": 6,
      "outputs": [
        {
          "output_type": "stream",
          "name": "stdout",
          "text": [
            "숫자1 ==> 3\n",
            "숫자2 ==> 2\n",
            "3 + 2 = 5\n",
            "3 - 2 = 1\n",
            "3 * 2 = 6\n",
            "3 / 2 = 1.5\n",
            "3 % 2 = 1\n",
            "3 ** 2 = 9\n"
          ]
        }
      ]
    }
  ]
}