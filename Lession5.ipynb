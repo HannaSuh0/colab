{
  "nbformat": 4,
  "nbformat_minor": 0,
  "metadata": {
    "colab": {
      "provenance": [],
      "authorship_tag": "ABX9TyOoWM/HyoSRQZiLvHXaaxxy",
      "include_colab_link": true
    },
    "kernelspec": {
      "name": "python3",
      "display_name": "Python 3"
    },
    "language_info": {
      "name": "python"
    }
  },
  "cells": [
    {
      "cell_type": "markdown",
      "metadata": {
        "id": "view-in-github",
        "colab_type": "text"
      },
      "source": [
        "<a href=\"https://colab.research.google.com/github/HannaSuh0/colab/blob/main/Lession5.ipynb\" target=\"_parent\"><img src=\"https://colab.research.google.com/assets/colab-badge.svg\" alt=\"Open In Colab\"/></a>"
      ]
    },
    {
      "cell_type": "markdown",
      "source": [
        "5장 예제 if문 "
      ],
      "metadata": {
        "id": "4dXYJ_QvQOwb"
      }
    },
    {
      "cell_type": "code",
      "source": [
        "num = 99\n",
        "if num < 100 :\n",
        "  print(\"100보다 작습니다.\")"
      ],
      "metadata": {
        "colab": {
          "base_uri": "https://localhost:8080/"
        },
        "id": "-qqrAQvNQYm-",
        "outputId": "e5740e5d-fdac-4bd0-c3f5-96bc7753fc9a"
      },
      "execution_count": null,
      "outputs": [
        {
          "output_type": "stream",
          "name": "stdout",
          "text": [
            "100보다 작습니다.\n"
          ]
        }
      ]
    },
    {
      "cell_type": "markdown",
      "source": [
        "짝수, 홀수 : 소스코드"
      ],
      "metadata": {
        "id": "LKmOH1sURBl2"
      }
    },
    {
      "cell_type": "code",
      "source": [
        "num = int(input(\"정수를 입력 ==> \"))\n",
        "\n",
        "if num % 2 ==0 :\n",
        "  print(\"짝수입니다.\")\n",
        "  \n",
        "else :\n",
        "  print(\"홀수입니다.\")"
      ],
      "metadata": {
        "colab": {
          "base_uri": "https://localhost:8080/"
        },
        "id": "ZtqZ_zfIRDIH",
        "outputId": "025feb3d-29c2-419e-834d-a66b669fb6bc"
      },
      "execution_count": null,
      "outputs": [
        {
          "output_type": "stream",
          "name": "stdout",
          "text": [
            "정수를 입력 ==> 12\n",
            "짝수입니다.\n"
          ]
        }
      ]
    },
    {
      "cell_type": "code",
      "source": [
        "num = int(input(\"정수를 입력 : \"))\n",
        "if (num % 2) == 0 :\n",
        "  print(num, \"홀수입니다.\")\n",
        "else :\n",
        "  print(num, \"홀수입니다.\")"
      ],
      "metadata": {
        "colab": {
          "base_uri": "https://localhost:8080/"
        },
        "id": "dMLJockoSl3T",
        "outputId": "7b29fb10-0430-4768-e3db-795b78230c17"
      },
      "execution_count": null,
      "outputs": [
        {
          "output_type": "stream",
          "name": "stdout",
          "text": [
            "정수를 입력 : 30\n",
            "30 홀수입니다.\n"
          ]
        }
      ]
    },
    {
      "cell_type": "markdown",
      "source": [
        "랜덤 함수 import random"
      ],
      "metadata": {
        "id": "7nWLbx-GUJM6"
      }
    },
    {
      "cell_type": "code",
      "source": [
        "import random\n",
        "\n",
        "r = random.randint(1,45)\n",
        "print(r)"
      ],
      "metadata": {
        "colab": {
          "base_uri": "https://localhost:8080/"
        },
        "id": "EQeAi_UBUixk",
        "outputId": "38733d60-e371-4ab4-d6a3-b5675fcd0cf8"
      },
      "execution_count": null,
      "outputs": [
        {
          "output_type": "stream",
          "name": "stdout",
          "text": [
            "45\n"
          ]
        }
      ]
    },
    {
      "cell_type": "code",
      "source": [
        "import random\n",
        "com_number = random.randint(1,45)\n",
        "print(\"** 컴퓨터가 생각한 숫자를 맞추는 게임 **\")\n",
        "print(\"숫자는 1부터 45까지 입니다.\")\n",
        "while com_number != user_number :\n",
        "  user_number = int(input(\"숫자를 입력 :\"))\n",
        "  if com_number > user_number :\n",
        "    print(\"입력한 숫자가 작습니다.\")\n",
        "  elif com_number < user_number :\n",
        "    print(\"입력한 숫자가 더 큽니다.\")\n",
        "  else : \n",
        "    print(\" 정답 ^^ \")"
      ],
      "metadata": {
        "colab": {
          "base_uri": "https://localhost:8080/"
        },
        "id": "ZDMVomVOVUKy",
        "outputId": "b70754bc-e50f-46ad-e65f-7f1549c8762e"
      },
      "execution_count": null,
      "outputs": [
        {
          "output_type": "stream",
          "name": "stdout",
          "text": [
            "** 컴퓨터가 생각한 숫자를 맞추는 게임 **\n",
            "숫자는 1부터 45까지 입니다.\n",
            "숫자를 입력 :37\n",
            "입력한 숫자가 더 큽니다.\n",
            "숫자를 입력 :35\n",
            "입력한 숫자가 더 큽니다.\n",
            "숫자를 입력 :30\n",
            "입력한 숫자가 더 큽니다.\n",
            "숫자를 입력 :25\n",
            "입력한 숫자가 더 큽니다.\n",
            "숫자를 입력 :20\n",
            "입력한 숫자가 더 큽니다.\n",
            "숫자를 입력 :15\n",
            "입력한 숫자가 작습니다.\n",
            "숫자를 입력 :18\n",
            "입력한 숫자가 더 큽니다.\n",
            "숫자를 입력 :16\n",
            "입력한 숫자가 작습니다.\n",
            "숫자를 입력 :17\n",
            " 정답 ^^ \n"
          ]
        }
      ]
    },
    {
      "cell_type": "markdown",
      "source": [
        "가위 바위 보 게임"
      ],
      "metadata": {
        "id": "JFea7xDSYD5x"
      }
    },
    {
      "cell_type": "code",
      "source": [
        "import random\n",
        "com_player = random.choice([\"가위\", \"바위\", \"보\"])\n",
        "print(\"** 가위 바위 보 게임 **\")\n",
        "user_player = input(\"가위/바위/보 중 하나를 입력하세요 == > \")\n",
        "print(com_player, user_player)"
      ],
      "metadata": {
        "colab": {
          "base_uri": "https://localhost:8080/"
        },
        "id": "UYF3c8oGYGZz",
        "outputId": "bd736ff8-2c0b-4e0b-c240-ad14f5288a32"
      },
      "execution_count": null,
      "outputs": [
        {
          "output_type": "stream",
          "name": "stdout",
          "text": [
            "** 가위 바위 보 게임 **\n",
            "가위/바위/보 중 하나를 입력하세요 == > 가위\n",
            "바위 가위\n"
          ]
        }
      ]
    },
    {
      "cell_type": "code",
      "source": [
        "import random\n",
        "com_player = random.choice([\"가위\", \"바위\", \"보\"])\n",
        "print(com_player)\n",
        "user_player = input(\"가위/바위/보 중 하나를 입력하세요 ==> \")\n",
        "count = 7\n",
        "while count > 0 :\n",
        "  user_player = input(\"가위/바위/보 중 하나를 입력하세요 ==>\")\n",
        "  if (com_player == user_player) :\n",
        "    print(\" 비겼다 ! \")\n",
        "  elif ((com_player == \"가위\") and (user_player == \"바위\")) or \\\n",
        "    ((com_player == \"바위\") and (user_player == \"보\")) or \\\n",
        "    ((com_player == \"보\") and (user_player == \"가위\")) :\n",
        "    print(\" 이겼다 !!! \")\n",
        "  else :\n",
        "    print(\" 졌다 ㅠㅠ \")\n",
        "  count = count - 1\n",
        "  "
      ],
      "metadata": {
        "colab": {
          "base_uri": "https://localhost:8080/"
        },
        "id": "kJHLvdLcZymy",
        "outputId": "c2875087-36e5-488a-9c73-0e5f1c990b5a"
      },
      "execution_count": null,
      "outputs": [
        {
          "output_type": "stream",
          "name": "stdout",
          "text": [
            "보\n",
            "가위/바위/보 중 하나를 입력하세요 ==> 가위\n",
            "가위/바위/보 중 하나를 입력하세요 ==>바위\n",
            " 졌다 ㅠㅠ \n",
            "가위/바위/보 중 하나를 입력하세요 ==>보\n",
            " 비겼다 ! \n",
            "가위/바위/보 중 하나를 입력하세요 ==>가위\n",
            " 이겼다 !!! \n",
            "가위/바위/보 중 하나를 입력하세요 ==>가위\n",
            " 이겼다 !!! \n",
            "가위/바위/보 중 하나를 입력하세요 ==>바우ㅏ\n",
            " 졌다 ㅠㅠ \n",
            "가위/바위/보 중 하나를 입력하세요 ==>바위\n",
            " 졌다 ㅠㅠ \n",
            "가위/바위/보 중 하나를 입력하세요 ==>보\n",
            " 비겼다 ! \n"
          ]
        }
      ]
    },
    {
      "cell_type": "markdown",
      "source": [
        "형성평가 - 1 : 소스코드"
      ],
      "metadata": {
        "id": "pIQEUqw3iPIQ"
      }
    },
    {
      "cell_type": "code",
      "source": [
        "num = int(input(\"숫자를 입력 ==> \"))\n",
        "\n",
        "if num > 100 :\n",
        "  if num < 1000 :\n",
        "    print(\"100보다 크고 1000보다 작군요.\")\n",
        "  else :\n",
        "    print(\"와~ 1000보다 크군요.\")\n",
        "else :\n",
        "    print(\"음~ 100보다 작군요.\")"
      ],
      "metadata": {
        "colab": {
          "base_uri": "https://localhost:8080/"
        },
        "id": "Bsztdcv9iR7w",
        "outputId": "862500cb-cab3-4cd3-ece2-90ecdc03c802"
      },
      "execution_count": 5,
      "outputs": [
        {
          "output_type": "stream",
          "name": "stdout",
          "text": [
            "숫자를 입력 ==> 1\n",
            "음~ 100보다 작군요.\n"
          ]
        }
      ]
    },
    {
      "cell_type": "markdown",
      "source": [
        "형성평가 - 2 : 소스코드"
      ],
      "metadata": {
        "id": "YN6FeHBOioVo"
      }
    },
    {
      "cell_type": "code",
      "source": [
        "score = int(input(\"점수를 입력 ==>\"))\n",
        "\n",
        "if score >= 90 :\n",
        "  print(\"A\", end='')\n",
        "else :\n",
        "  if score >= 80 :\n",
        "    print(\"B\", end='')\n",
        "  else :\n",
        "    if score >= 70 :\n",
        "      print(\"C\", end='')\n",
        "    else : \n",
        "      if score >= 60 :\n",
        "        print(\"D\", end='')\n",
        "      else :\n",
        "        print(\"F\", end='')\n",
        "print(\"학점입니다.\")"
      ],
      "metadata": {
        "colab": {
          "base_uri": "https://localhost:8080/"
        },
        "id": "OD3awuufiqKx",
        "outputId": "409d50ce-c671-41b2-afa6-2b6f94bebd91"
      },
      "execution_count": 6,
      "outputs": [
        {
          "output_type": "stream",
          "name": "stdout",
          "text": [
            "점수를 입력 ==>80\n",
            "B학점입니다.\n"
          ]
        }
      ]
    },
    {
      "cell_type": "markdown",
      "source": [
        "형성평가 : PC방 나이 제한 검사하기"
      ],
      "metadata": {
        "id": "uTbN5gd8pwWL"
      }
    },
    {
      "cell_type": "code",
      "source": [
        "age = int(input(\"나이를 입력 ==> \"))\n",
        "\n",
        "if age >= 18 :\n",
        "  print(\"즐거운 시간 되세요 *^^*\")\n",
        "else :\n",
        "  print(\"집에 갈 시간이네요 !!\")\n",
        "  \n",
        "print(\"협조 감사합니다~\")"
      ],
      "metadata": {
        "colab": {
          "base_uri": "https://localhost:8080/"
        },
        "id": "GyUQzbVJqbin",
        "outputId": "9858e770-e592-41fb-af84-81daca1eda67"
      },
      "execution_count": 39,
      "outputs": [
        {
          "output_type": "stream",
          "name": "stdout",
          "text": [
            "나이를 입력 ==> 20\n",
            "즐거운 시간 되세요 *^^*\n",
            "협조 감사합니다~\n"
          ]
        }
      ]
    },
    {
      "cell_type": "code",
      "source": [
        "import random\n",
        "\n",
        "myHand = input(\"나의 가위/바위/보 ==>\")\n",
        "comHand = random.choice([\"가위\", \"바위\", \"보\"])\n",
        "print(\"컴퓨터의 가위/바위/보 ==>\", comHand)\n",
        "\n",
        "if myHand == comHand :\n",
        "  print(\"비겼습니다. -_- \")\n",
        "\n",
        "elif (myHand == \"가위\" and comHand == \"보\") or \\\n",
        "     (myHand == \"바위\" and comHand == \"가위\") or \\\n",
        "     (myHand == \"보\" and comHand == \"바위\"):\n",
        "    print(\"이겼습니다 ~~ \")\n",
        "else :\n",
        "    print(\"졌습니다 ㅠ_ㅠ \")"
      ],
      "metadata": {
        "colab": {
          "base_uri": "https://localhost:8080/"
        },
        "id": "Ja6RjMYOhPsQ",
        "outputId": "472bf8b8-1277-4ae9-8bcb-b40055f71cdb"
      },
      "execution_count": 3,
      "outputs": [
        {
          "output_type": "stream",
          "name": "stdout",
          "text": [
            "나의 가위/바위/보 ==>가위\n",
            "컴퓨터의 가위/바위/보 ==> 보\n",
            "이겼습니다 ~~ \n"
          ]
        }
      ]
    },
    {
      "cell_type": "markdown",
      "source": [
        "작푼명 : 사춘기 거북이"
      ],
      "metadata": {
        "id": "yRNT3AgtjJhz"
      }
    },
    {
      "cell_type": "code",
      "source": [
        "!pip3 install ColabTurtle\n",
        "import ColabTurtle.Turtle as turtle\n",
        "turtle.initializeTurtle()\n",
        "\n",
        "while True :\n",
        "  turtle.left(random.randint(0,360))\n",
        "  turtle.color((random.randint(0,255),random.randint(0,255),random.randint(0,255)))\n",
        "  turtle.forward(random.randint(100,200))\n",
        "  if 800 <= turtle.getx() or turtle.getx() <= 0 or \\\n",
        "  500 <= turtle.gety() or turtle.gety() <=0:\n",
        "    turtle.goto(400,250)"
      ],
      "metadata": {
        "colab": {
          "base_uri": "https://localhost:8080/",
          "height": 937
        },
        "id": "42PF2fWOjLLo",
        "outputId": "3655f01f-cc3b-4f31-942f-f553dd63773a"
      },
      "execution_count": 38,
      "outputs": [
        {
          "output_type": "stream",
          "name": "stdout",
          "text": [
            "Looking in indexes: https://pypi.org/simple, https://us-python.pkg.dev/colab-wheels/public/simple/\n",
            "Requirement already satisfied: ColabTurtle in /usr/local/lib/python3.7/dist-packages (2.1.0)\n"
          ]
        },
        {
          "output_type": "display_data",
          "data": {
            "text/plain": [
              "<IPython.core.display.HTML object>"
            ],
            "text/html": [
              "\n",
              "      <svg width=\"800\" height=\"500\">\n",
              "        <rect width=\"100%\" height=\"100%\" fill=\"black\"/>\n",
              "        <line x1=\"400\" y1=\"250\" x2=\"227.432\" y2=\"334.167\" stroke-linecap=\"round\" style=\"stroke:rgb(142,248,67);stroke-width:4\"/><line x1=\"227.432\" y1=\"334.167\" x2=\"142.726\" y2=\"389.176\" stroke-linecap=\"round\" style=\"stroke:rgb(27,70,25);stroke-width:4\"/><line x1=\"142.726\" y1=\"389.176\" x2=\"68.045\" y2=\"264.887\" stroke-linecap=\"round\" style=\"stroke:rgb(134,126,222);stroke-width:4\"/><line x1=\"68.045\" y1=\"264.887\" x2=\"250.043\" y2=\"284.016\" stroke-linecap=\"round\" style=\"stroke:rgb(246,122,173);stroke-width:4\"/><line x1=\"250.043\" y1=\"284.016\" x2=\"190.531\" y2=\"447.523\" stroke-linecap=\"round\" style=\"stroke:rgb(200,123,2);stroke-width:4\"/><line x1=\"190.531\" y1=\"447.523\" x2=\"304.375\" y2=\"561.367\" stroke-linecap=\"round\" style=\"stroke:rgb(86,133,201);stroke-width:4\"/><line x1=\"304.375\" y1=\"561.367\" x2=\"400\" y2=\"250\" stroke-linecap=\"round\" style=\"stroke:rgb(86,133,201);stroke-width:4\"/><line x1=\"400\" y1=\"250\" x2=\"437.971\" y2=\"54.656\" stroke-linecap=\"round\" style=\"stroke:rgb(200,21,143);stroke-width:4\"/><line x1=\"437.971\" y1=\"54.656\" x2=\"286.294\" y2=\"-72.616\" stroke-linecap=\"round\" style=\"stroke:rgb(153,221,182);stroke-width:4\"/><line x1=\"286.294\" y1=\"-72.616\" x2=\"400\" y2=\"250\" stroke-linecap=\"round\" style=\"stroke:rgb(153,221,182);stroke-width:4\"/><line x1=\"400\" y1=\"250\" x2=\"460.563\" y2=\"392.678\" stroke-linecap=\"round\" style=\"stroke:rgb(191,185,202);stroke-width:4\"/><line x1=\"460.563\" y1=\"392.678\" x2=\"343.811\" y2=\"547.613\" stroke-linecap=\"round\" style=\"stroke:rgb(80,152,92);stroke-width:4\"/><line x1=\"343.811\" y1=\"547.613\" x2=\"400\" y2=\"250\" stroke-linecap=\"round\" style=\"stroke:rgb(80,152,92);stroke-width:4\"/><line x1=\"400\" y1=\"250\" x2=\"423.078\" y2=\"141.426\" stroke-linecap=\"round\" style=\"stroke:rgb(88,165,91);stroke-width:4\"/><line x1=\"423.078\" y1=\"141.426\" x2=\"318.462\" y2=\"175.418\" stroke-linecap=\"round\" style=\"stroke:rgb(63,252,132);stroke-width:4\"/><line x1=\"318.462\" y1=\"175.418\" x2=\"251.073\" y2=\"53.846\" stroke-linecap=\"round\" style=\"stroke:rgb(80,87,129);stroke-width:4\"/><line x1=\"251.073\" y1=\"53.846\" x2=\"354.43\" y2=\"106.509\" stroke-linecap=\"round\" style=\"stroke:rgb(234,135,137);stroke-width:4\"/><line x1=\"354.43\" y1=\"106.509\" x2=\"527.333\" y2=\"43.577\" stroke-linecap=\"round\" style=\"stroke:rgb(224,19,196);stroke-width:4\"/><line x1=\"527.333\" y1=\"43.577\" x2=\"391.03\" y2=\"95.899\" stroke-linecap=\"round\" style=\"stroke:rgb(187,159,225);stroke-width:4\"/><line x1=\"391.03\" y1=\"95.899\" x2=\"547.488\" y2=\"-13.654\" stroke-linecap=\"round\" style=\"stroke:rgb(216,117,129);stroke-width:4\"/><line x1=\"547.488\" y1=\"-13.654\" x2=\"400\" y2=\"250\" stroke-linecap=\"round\" style=\"stroke:rgb(216,117,129);stroke-width:4\"/><line x1=\"400\" y1=\"250\" x2=\"370.306\" y2=\"378.617\" stroke-linecap=\"round\" style=\"stroke:rgb(30,95,159);stroke-width:4\"/><line x1=\"370.306\" y1=\"378.617\" x2=\"310.352\" y2=\"296.097\" stroke-linecap=\"round\" style=\"stroke:rgb(34,161,78);stroke-width:4\"/><line x1=\"310.352\" y1=\"296.097\" x2=\"483.064\" y2=\"229.799\" stroke-linecap=\"round\" style=\"stroke:rgb(226,62,133);stroke-width:4\"/><line x1=\"483.064\" y1=\"229.799\" x2=\"630.792\" y2=\"160.912\" stroke-linecap=\"round\" style=\"stroke:rgb(188,92,51);stroke-width:4\"/><line x1=\"630.792\" y1=\"160.912\" x2=\"529.471\" y2=\"286.032\" stroke-linecap=\"round\" style=\"stroke:rgb(158,223,197);stroke-width:4\"/><line x1=\"529.471\" y1=\"286.032\" x2=\"652.201\" y2=\"220.775\" stroke-linecap=\"round\" style=\"stroke:rgb(147,170,132);stroke-width:4\"/><line x1=\"652.201\" y1=\"220.775\" x2=\"793.864\" y2=\"256.096\" stroke-linecap=\"round\" style=\"stroke:rgb(49,185,112);stroke-width:4\"/><line x1=\"793.864\" y1=\"256.096\" x2=\"730.3\" y2=\"125.771\" stroke-linecap=\"round\" style=\"stroke:rgb(190,48,101);stroke-width:4\"/><line x1=\"730.3\" y1=\"125.771\" x2=\"619.816\" y2=\"244.25\" stroke-linecap=\"round\" style=\"stroke:rgb(166,233,175);stroke-width:4\"/><line x1=\"619.816\" y1=\"244.25\" x2=\"727.648\" y2=\"398.251\" stroke-linecap=\"round\" style=\"stroke:rgb(191,205,70);stroke-width:4\"/><line x1=\"727.648\" y1=\"398.251\" x2=\"585.491\" y2=\"505.374\" stroke-linecap=\"round\" style=\"stroke:rgb(96,211,97);stroke-width:4\"/><line x1=\"585.491\" y1=\"505.374\" x2=\"400\" y2=\"250\" stroke-linecap=\"round\" style=\"stroke:rgb(96,211,97);stroke-width:4\"/><line x1=\"400\" y1=\"250\" x2=\"504.132\" y2=\"125.901\" stroke-linecap=\"round\" style=\"stroke:rgb(198,47,27);stroke-width:4\"/><line x1=\"504.132\" y1=\"125.901\" x2=\"621.406\" y2=\"159.529\" stroke-linecap=\"round\" style=\"stroke:rgb(252,213,132);stroke-width:4\"/><line x1=\"621.406\" y1=\"159.529\" x2=\"439.217\" y2=\"191.654\" stroke-linecap=\"round\" style=\"stroke:rgb(244,58,86);stroke-width:4\"/><line x1=\"439.217\" y1=\"191.654\" x2=\"314.874\" y2=\"292.345\" stroke-linecap=\"round\" style=\"stroke:rgb(107,218,134);stroke-width:4\"/><line x1=\"314.874\" y1=\"292.345\" x2=\"183.584\" y2=\"428.3\" stroke-linecap=\"round\" style=\"stroke:rgb(86,84,6);stroke-width:4\"/><line x1=\"183.584\" y1=\"428.3\" x2=\"244.873\" y2=\"548.586\" stroke-linecap=\"round\" style=\"stroke:rgb(208,64,107);stroke-width:4\"/><line x1=\"244.873\" y1=\"548.586\" x2=\"400\" y2=\"250\" stroke-linecap=\"round\" style=\"stroke:rgb(208,64,107);stroke-width:4\"/><line x1=\"400\" y1=\"250\" x2=\"239.262\" y2=\"194.653\" stroke-linecap=\"round\" style=\"stroke:rgb(226,54,44);stroke-width:4\"/><line x1=\"239.262\" y1=\"194.653\" x2=\"356.461\" y2=\"259.617\" stroke-linecap=\"round\" style=\"stroke:rgb(245,201,40);stroke-width:4\"/><line x1=\"356.461\" y1=\"259.617\" x2=\"506.896\" y2=\"176.23\" stroke-linecap=\"round\" style=\"stroke:rgb(206,188,209);stroke-width:4\"/><line x1=\"506.896\" y1=\"176.23\" x2=\"633.128\" y2=\"137.637\" stroke-linecap=\"round\" style=\"stroke:rgb(126,182,9);stroke-width:4\"/><line x1=\"633.128\" y1=\"137.637\" x2=\"701.001\" y2=\"260.084\" stroke-linecap=\"round\" style=\"stroke:rgb(66,103,195);stroke-width:4\"/><line x1=\"701.001\" y1=\"260.084\" x2=\"514.734\" y2=\"195.947\" stroke-linecap=\"round\" style=\"stroke:rgb(65,56,148);stroke-width:4\"/><line x1=\"514.734\" y1=\"195.947\" x2=\"346.432\" y2=\"253.898\" stroke-linecap=\"round\" style=\"stroke:rgb(14,7,201);stroke-width:4\"/><line x1=\"346.432\" y1=\"253.898\" x2=\"165.685\" y2=\"225.27\" stroke-linecap=\"round\" style=\"stroke:rgb(128,185,137);stroke-width:4\"/><line x1=\"165.685\" y1=\"225.27\" x2=\"-9.236\" y2=\"285.5\" stroke-linecap=\"round\" style=\"stroke:rgb(106,210,213);stroke-width:4\"/><line x1=\"-9.236\" y1=\"285.5\" x2=\"400\" y2=\"250\" stroke-linecap=\"round\" style=\"stroke:rgb(106,210,213);stroke-width:4\"/><line x1=\"400\" y1=\"250\" x2=\"426.395\" y2=\"100.309\" stroke-linecap=\"round\" style=\"stroke:rgb(193,119,105);stroke-width:4\"/><line x1=\"426.395\" y1=\"100.309\" x2=\"325.641\" y2=\"93.264\" stroke-linecap=\"round\" style=\"stroke:rgb(225,30,66);stroke-width:4\"/><line x1=\"325.641\" y1=\"93.264\" x2=\"217.401\" y2=\"-7.672\" stroke-linecap=\"round\" style=\"stroke:rgb(111,147,46);stroke-width:4\"/><line x1=\"217.401\" y1=\"-7.672\" x2=\"400\" y2=\"250\" stroke-linecap=\"round\" style=\"stroke:rgb(111,147,46);stroke-width:4\"/><line x1=\"400\" y1=\"250\" x2=\"528.145\" y2=\"289.178\" stroke-linecap=\"round\" style=\"stroke:rgb(12,197,180);stroke-width:4\"/><line x1=\"528.145\" y1=\"289.178\" x2=\"647.92\" y2=\"321.272\" stroke-linecap=\"round\" style=\"stroke:rgb(228,195,243);stroke-width:4\"/><line x1=\"647.92\" y1=\"321.272\" x2=\"708.796\" y2=\"133.914\" stroke-linecap=\"round\" style=\"stroke:rgb(51,229,106);stroke-width:4\"/><line x1=\"708.796\" y1=\"133.914\" x2=\"771.027\" y2=\"-5.858\" stroke-linecap=\"round\" style=\"stroke:rgb(48,143,102);stroke-width:4\"/><line x1=\"771.027\" y1=\"-5.858\" x2=\"400\" y2=\"250\" stroke-linecap=\"round\" style=\"stroke:rgb(48,143,102);stroke-width:4\"/><line x1=\"400\" y1=\"250\" x2=\"416.426\" y2=\"353.707\" stroke-linecap=\"round\" style=\"stroke:rgb(172,19,255);stroke-width:4\"/><line x1=\"416.426\" y1=\"353.707\" x2=\"321.201\" y2=\"390.261\" stroke-linecap=\"round\" style=\"stroke:rgb(139,200,188);stroke-width:4\"/><line x1=\"321.201\" y1=\"390.261\" x2=\"428.609\" y2=\"378.972\" stroke-linecap=\"round\" style=\"stroke:rgb(34,223,86);stroke-width:4\"/><line x1=\"428.609\" y1=\"378.972\" x2=\"509.432\" y2=\"444.421\" stroke-linecap=\"round\" style=\"stroke:rgb(111,180,39);stroke-width:4\"/><line x1=\"509.432\" y1=\"444.421\" x2=\"619.634\" y2=\"505.507\" stroke-linecap=\"round\" style=\"stroke:rgb(217,209,217);stroke-width:4\"/><line x1=\"619.634\" y1=\"505.507\" x2=\"400\" y2=\"250\" stroke-linecap=\"round\" style=\"stroke:rgb(217,209,217);stroke-width:4\"/><line x1=\"400\" y1=\"250\" x2=\"589.083\" y2=\"283.34\" stroke-linecap=\"round\" style=\"stroke:rgb(185,52,222);stroke-width:4\"/><line x1=\"589.083\" y1=\"283.34\" x2=\"692.129\" y2=\"397.784\" stroke-linecap=\"round\" style=\"stroke:rgb(235,137,109);stroke-width:4\"/><line x1=\"692.129\" y1=\"397.784\" x2=\"676.659\" y2=\"544.973\" stroke-linecap=\"round\" style=\"stroke:rgb(14,61,84);stroke-width:4\"/><line x1=\"676.659\" y1=\"544.973\" x2=\"400\" y2=\"250\" stroke-linecap=\"round\" style=\"stroke:rgb(14,61,84);stroke-width:4\"/><line x1=\"400\" y1=\"250\" x2=\"352.114\" y2=\"159.939\" stroke-linecap=\"round\" style=\"stroke:rgb(199,111,210);stroke-width:4\"/><line x1=\"352.114\" y1=\"159.939\" x2=\"488.115\" y2=\"115.75\" stroke-linecap=\"round\" style=\"stroke:rgb(176,120,140);stroke-width:4\"/><line x1=\"488.115\" y1=\"115.75\" x2=\"488.115\" y2=\"299.75\" stroke-linecap=\"round\" style=\"stroke:rgb(176,231,190);stroke-width:4\"/><line x1=\"488.115\" y1=\"299.75\" x2=\"545.847\" y2=\"388.649\" stroke-linecap=\"round\" style=\"stroke:rgb(2,85,150);stroke-width:4\"/><line x1=\"545.847\" y1=\"388.649\" x2=\"414.853\" y2=\"498.566\" stroke-linecap=\"round\" style=\"stroke:rgb(50,107,88);stroke-width:4\"/><line x1=\"414.853\" y1=\"498.566\" x2=\"320.758\" y2=\"456.672\" stroke-linecap=\"round\" style=\"stroke:rgb(148,133,215);stroke-width:4\"/><line x1=\"320.758\" y1=\"456.672\" x2=\"409.86\" y2=\"308.382\" stroke-linecap=\"round\" style=\"stroke:rgb(1,131,241);stroke-width:4\"/><line x1=\"409.86\" y1=\"308.382\" x2=\"293.234\" y2=\"217.264\" stroke-linecap=\"round\" style=\"stroke:rgb(167,238,5);stroke-width:4\"/><line x1=\"293.234\" y1=\"217.264\" x2=\"316.404\" y2=\"317.624\" stroke-linecap=\"round\" style=\"stroke:rgb(201,5,51);stroke-width:4\"/><line x1=\"316.404\" y1=\"317.624\" x2=\"197.724\" y2=\"365.574\" stroke-linecap=\"round\" style=\"stroke:rgb(165,174,55);stroke-width:4\"/><line x1=\"197.724\" y1=\"365.574\" x2=\"63.182\" y2=\"297.021\" stroke-linecap=\"round\" style=\"stroke:rgb(51,7,246);stroke-width:4\"/><line x1=\"63.182\" y1=\"297.021\" x2=\"-95.527\" y2=\"357.944\" stroke-linecap=\"round\" style=\"stroke:rgb(187,72,100);stroke-width:4\"/><line x1=\"-95.527\" y1=\"357.944\" x2=\"400\" y2=\"250\" stroke-linecap=\"round\" style=\"stroke:rgb(187,72,100);stroke-width:4\"/><line x1=\"400\" y1=\"250\" x2=\"473.619\" y2=\"415.352\" stroke-linecap=\"round\" style=\"stroke:rgb(102,136,218);stroke-width:4\"/><line x1=\"473.619\" y1=\"415.352\" x2=\"370.3\" y2=\"463.53\" stroke-linecap=\"round\" style=\"stroke:rgb(77,54,129);stroke-width:4\"/><line x1=\"370.3\" y1=\"463.53\" x2=\"379.996\" y2=\"602.191\" stroke-linecap=\"round\" style=\"stroke:rgb(107,139,13);stroke-width:4\"/><line x1=\"379.996\" y1=\"602.191\" x2=\"400\" y2=\"250\" stroke-linecap=\"round\" style=\"stroke:rgb(107,139,13);stroke-width:4\"/><line x1=\"400\" y1=\"250\" x2=\"358.483\" y2=\"114.205\" stroke-linecap=\"round\" style=\"stroke:rgb(231,80,133);stroke-width:4\"/><line x1=\"358.483\" y1=\"114.205\" x2=\"515.016\" y2=\"-3.751\" stroke-linecap=\"round\" style=\"stroke:rgb(251,210,252);stroke-width:4\"/><line x1=\"515.016\" y1=\"-3.751\" x2=\"400\" y2=\"250\" stroke-linecap=\"round\" style=\"stroke:rgb(251,210,252);stroke-width:4\"/><line x1=\"400\" y1=\"250\" x2=\"519.135\" y2=\"291.022\" stroke-linecap=\"round\" style=\"stroke:rgb(95,42,255);stroke-width:4\"/><line x1=\"519.135\" y1=\"291.022\" x2=\"548.829\" y2=\"419.639\" stroke-linecap=\"round\" style=\"stroke:rgb(187,112,225);stroke-width:4\"/><line x1=\"548.829\" y1=\"419.639\" x2=\"616.633\" y2=\"587.459\" stroke-linecap=\"round\" style=\"stroke:rgb(42,145,136);stroke-width:4\"/><line x1=\"616.633\" y1=\"587.459\" x2=\"400\" y2=\"250\" stroke-linecap=\"round\" style=\"stroke:rgb(42,145,136);stroke-width:4\"/><line x1=\"400\" y1=\"250\" x2=\"475.802\" y2=\"71.422\" stroke-linecap=\"round\" style=\"stroke:rgb(113,213,170);stroke-width:4\"/><line x1=\"475.802\" y1=\"71.422\" x2=\"479.397\" y2=\"174.359\" stroke-linecap=\"round\" style=\"stroke:rgb(38,166,82);stroke-width:4\"/><line x1=\"479.397\" y1=\"174.359\" x2=\"561.555\" y2=\"19.843\" stroke-linecap=\"round\" style=\"stroke:rgb(207,33,209);stroke-width:4\"/><line x1=\"561.555\" y1=\"19.843\" x2=\"487.555\" y2=\"-125.391\" stroke-linecap=\"round\" style=\"stroke:rgb(205,72,79);stroke-width:4\"/><line x1=\"487.555\" y1=\"-125.391\" x2=\"400\" y2=\"250\" stroke-linecap=\"round\" style=\"stroke:rgb(205,72,79);stroke-width:4\"/><line x1=\"400\" y1=\"250\" x2=\"294.828\" y2=\"173.588\" stroke-linecap=\"round\" style=\"stroke:rgb(236,219,140);stroke-width:4\"/><line x1=\"294.828\" y1=\"173.588\" x2=\"254.562\" y2=\"348.0\" stroke-linecap=\"round\" style=\"stroke:rgb(223,148,140);stroke-width:4\"/><line x1=\"254.562\" y1=\"348.0\" x2=\"354.283\" y2=\"462.716\" stroke-linecap=\"round\" style=\"stroke:rgb(19,44,115);stroke-width:4\"/><line x1=\"354.283\" y1=\"462.716\" x2=\"428.455\" y2=\"646.298\" stroke-linecap=\"round\" style=\"stroke:rgb(180,0,60);stroke-width:4\"/><line x1=\"428.455\" y1=\"646.298\" x2=\"400\" y2=\"250\" stroke-linecap=\"round\" style=\"stroke:rgb(180,0,60);stroke-width:4\"/><line x1=\"400\" y1=\"250\" x2=\"585.606\" y2=\"272.79\" stroke-linecap=\"round\" style=\"stroke:rgb(74,38,71);stroke-width:4\"/><line x1=\"585.606\" y1=\"272.79\" x2=\"687.01\" y2=\"317.938\" stroke-linecap=\"round\" style=\"stroke:rgb(128,202,209);stroke-width:4\"/><line x1=\"687.01\" y1=\"317.938\" x2=\"603.96\" y2=\"207.726\" stroke-linecap=\"round\" style=\"stroke:rgb(41,222,139);stroke-width:4\"/><line x1=\"603.96\" y1=\"207.726\" x2=\"709.62\" y2=\"370.428\" stroke-linecap=\"round\" style=\"stroke:rgb(128,98,141);stroke-width:4\"/><line x1=\"709.62\" y1=\"370.428\" x2=\"740.594\" y2=\"174.866\" stroke-linecap=\"round\" style=\"stroke:rgb(7,111,133);stroke-width:4\"/><line x1=\"740.594\" y1=\"174.866\" x2=\"627.739\" y2=\"330.197\" stroke-linecap=\"round\" style=\"stroke:rgb(37,22,68);stroke-width:4\"/><line x1=\"627.739\" y1=\"330.197\" x2=\"782.354\" y2=\"357.46\" stroke-linecap=\"round\" style=\"stroke:rgb(55,22,61);stroke-width:4\"/><line x1=\"782.354\" y1=\"357.46\" x2=\"961.183\" y2=\"412.134\" stroke-linecap=\"round\" style=\"stroke:rgb(251,12,111);stroke-width:4\"/><line x1=\"961.183\" y1=\"412.134\" x2=\"400\" y2=\"250\" stroke-linecap=\"round\" style=\"stroke:rgb(251,12,111);stroke-width:4\"/><line x1=\"400\" y1=\"250\" x2=\"346.251\" y2=\"437.446\" stroke-linecap=\"round\" style=\"stroke:rgb(241,216,185);stroke-width:4\"/><line x1=\"346.251\" y1=\"437.446\" x2=\"259.303\" y2=\"515.734\" stroke-linecap=\"round\" style=\"stroke:rgb(192,196,23);stroke-width:4\"/><line x1=\"259.303\" y1=\"515.734\" x2=\"400\" y2=\"250\" stroke-linecap=\"round\" style=\"stroke:rgb(192,196,23);stroke-width:4\"/><line x1=\"400\" y1=\"250\" x2=\"402.321\" y2=\"382.98\" stroke-linecap=\"round\" style=\"stroke:rgb(31,196,189);stroke-width:4\"/><line x1=\"402.321\" y1=\"382.98\" x2=\"282.586\" y2=\"295.988\" stroke-linecap=\"round\" style=\"stroke:rgb(151,193,162);stroke-width:4\"/><line x1=\"282.586\" y1=\"295.988\" x2=\"205.669\" y2=\"131.04\" stroke-linecap=\"round\" style=\"stroke:rgb(113,149,218);stroke-width:4\"/><line x1=\"205.669\" y1=\"131.04\" x2=\"66.815\" y2=\"85.924\" stroke-linecap=\"round\" style=\"stroke:rgb(229,96,5);stroke-width:4\"/><line x1=\"66.815\" y1=\"85.924\" x2=\"178.399\" y2=\"113.745\" stroke-linecap=\"round\" style=\"stroke:rgb(27,168,203);stroke-width:4\"/><line x1=\"178.399\" y1=\"113.745\" x2=\"304.481\" y2=\"15.239\" stroke-linecap=\"round\" style=\"stroke:rgb(120,80,187);stroke-width:4\"/><line x1=\"304.481\" y1=\"15.239\" x2=\"181.491\" y2=\"107.919\" stroke-linecap=\"round\" style=\"stroke:rgb(217,112,117);stroke-width:4\"/><line x1=\"181.491\" y1=\"107.919\" x2=\"124.064\" y2=\"225.661\" stroke-linecap=\"round\" style=\"stroke:rgb(85,30,137);stroke-width:4\"/><line x1=\"124.064\" y1=\"225.661\" x2=\"243.064\" y2=\"225.661\" stroke-linecap=\"round\" style=\"stroke:rgb(248,197,138);stroke-width:4\"/><line x1=\"243.064\" y1=\"225.661\" x2=\"94.625\" y2=\"168.68\" stroke-linecap=\"round\" style=\"stroke:rgb(61,79,242);stroke-width:4\"/><line x1=\"94.625\" y1=\"168.68\" x2=\"113.758\" y2=\"12.85\" stroke-linecap=\"round\" style=\"stroke:rgb(42,170,167);stroke-width:4\"/><line x1=\"113.758\" y1=\"12.85\" x2=\"258.307\" y2=\"-104.204\" stroke-linecap=\"round\" style=\"stroke:rgb(70,206,26);stroke-width:4\"/><line x1=\"258.307\" y1=\"-104.204\" x2=\"400\" y2=\"250\" stroke-linecap=\"round\" style=\"stroke:rgb(70,206,26);stroke-width:4\"/><line x1=\"400\" y1=\"250\" x2=\"430.974\" y2=\"54.438\" stroke-linecap=\"round\" style=\"stroke:rgb(63,99,166);stroke-width:4\"/><line x1=\"430.974\" y1=\"54.438\" x2=\"521.367\" y2=\"-21.411\" stroke-linecap=\"round\" style=\"stroke:rgb(238,19,204);stroke-width:4\"/><line x1=\"521.367\" y1=\"-21.411\" x2=\"400\" y2=\"250\" stroke-linecap=\"round\" style=\"stroke:rgb(238,19,204);stroke-width:4\"/><line x1=\"400\" y1=\"250\" x2=\"509.942\" y2=\"228.629\" stroke-linecap=\"round\" style=\"stroke:rgb(250,188,143);stroke-width:4\"/><line x1=\"509.942\" y1=\"228.629\" x2=\"645.042\" y2=\"150.629\" stroke-linecap=\"round\" style=\"stroke:rgb(187,137,203);stroke-width:4\"/><line x1=\"645.042\" y1=\"150.629\" x2=\"598.527\" y2=\"22.831\" stroke-linecap=\"round\" style=\"stroke:rgb(135,104,42);stroke-width:4\"/><line x1=\"598.527\" y1=\"22.831\" x2=\"605.54\" y2=\"156.647\" stroke-linecap=\"round\" style=\"stroke:rgb(178,208,156);stroke-width:4\"/><line x1=\"605.54\" y1=\"156.647\" x2=\"526.669\" y2=\"8.312\" stroke-linecap=\"round\" style=\"stroke:rgb(155,249,250);stroke-width:4\"/><line x1=\"526.669\" y1=\"8.312\" x2=\"414.846\" y2=\"49.012\" stroke-linecap=\"round\" style=\"stroke:rgb(114,13,218);stroke-width:4\"/><line x1=\"414.846\" y1=\"49.012\" x2=\"236.705\" y2=\"-30.302\" stroke-linecap=\"round\" style=\"stroke:rgb(252,64,145);stroke-width:4\"/><line x1=\"236.705\" y1=\"-30.302\" x2=\"400\" y2=\"250\" stroke-linecap=\"round\" style=\"stroke:rgb(252,64,145);stroke-width:4\"/><line x1=\"400\" y1=\"250\" x2=\"211.719\" y2=\"233.528\" stroke-linecap=\"round\" style=\"stroke:rgb(196,95,94);stroke-width:4\"/><line x1=\"211.719\" y1=\"233.528\" x2=\"108.035\" y2=\"255.567\" stroke-linecap=\"round\" style=\"stroke:rgb(109,239,178);stroke-width:4\"/><line x1=\"108.035\" y1=\"255.567\" x2=\"177.337\" y2=\"427.096\" stroke-linecap=\"round\" style=\"stroke:rgb(3,90,85);stroke-width:4\"/><line x1=\"177.337\" y1=\"427.096\" x2=\"41.341\" y2=\"304.645\" stroke-linecap=\"round\" style=\"stroke:rgb(192,137,44);stroke-width:4\"/><line x1=\"41.341\" y1=\"304.645\" x2=\"144.646\" y2=\"359.573\" stroke-linecap=\"round\" style=\"stroke:rgb(126,173,167);stroke-width:4\"/><line x1=\"144.646\" y1=\"359.573\" x2=\"97.236\" y2=\"194.236\" stroke-linecap=\"round\" style=\"stroke:rgb(6,105,91);stroke-width:4\"/><line x1=\"97.236\" y1=\"194.236\" x2=\"19.617\" y2=\"280.441\" stroke-linecap=\"round\" style=\"stroke:rgb(100,247,19);stroke-width:4\"/><line x1=\"19.617\" y1=\"280.441\" x2=\"40.034\" y2=\"175.407\" stroke-linecap=\"round\" style=\"stroke:rgb(76,175,188);stroke-width:4\"/><line x1=\"40.034\" y1=\"175.407\" x2=\"-44.001\" y2=\"333.455\" stroke-linecap=\"round\" style=\"stroke:rgb(147,237,237);stroke-width:4\"/><line x1=\"-44.001\" y1=\"333.455\" x2=\"400\" y2=\"250\" stroke-linecap=\"round\" style=\"stroke:rgb(147,237,237);stroke-width:4\"/><line x1=\"400\" y1=\"250\" x2=\"378.15\" y2=\"94.528\" stroke-linecap=\"round\" style=\"stroke:rgb(250,71,134);stroke-width:4\"/><line x1=\"378.15\" y1=\"94.528\" x2=\"277.042\" y2=\"114.181\" stroke-linecap=\"round\" style=\"stroke:rgb(113,145,86);stroke-width:4\"/><line x1=\"277.042\" y1=\"114.181\" x2=\"351.605\" y2=\"25.32\" stroke-linecap=\"round\" style=\"stroke:rgb(15,41,89);stroke-width:4\"/><line x1=\"351.605\" y1=\"25.32\" x2=\"271.309\" y2=\"-63.857\" stroke-linecap=\"round\" style=\"stroke:rgb(143,174,184);stroke-width:4\"/><line x1=\"271.309\" y1=\"-63.857\" x2=\"400\" y2=\"250\" stroke-linecap=\"round\" style=\"stroke:rgb(143,174,184);stroke-width:4\"/><line x1=\"400\" y1=\"250\" x2=\"359.599\" y2=\"87.961\" stroke-linecap=\"round\" style=\"stroke:rgb(61,138,246);stroke-width:4\"/><line x1=\"359.599\" y1=\"87.961\" x2=\"292.967\" y2=\"224.578\" stroke-linecap=\"round\" style=\"stroke:rgb(118,7,171);stroke-width:4\"/><line x1=\"292.967\" y1=\"224.578\" x2=\"356.528\" y2=\"303.07\" stroke-linecap=\"round\" style=\"stroke:rgb(231,143,190);stroke-width:4\"/><line x1=\"356.528\" y1=\"303.07\" x2=\"463.306\" y2=\"203.498\" stroke-linecap=\"round\" style=\"stroke:rgb(188,230,93);stroke-width:4\"/><line x1=\"463.306\" y1=\"203.498\" x2=\"634.663\" y2=\"173.283\" stroke-linecap=\"round\" style=\"stroke:rgb(168,51,109);stroke-width:4\"/><line x1=\"634.663\" y1=\"173.283\" x2=\"672.252\" y2=\"366.664\" stroke-linecap=\"round\" style=\"stroke:rgb(38,67,106);stroke-width:4\"/><line x1=\"672.252\" y1=\"366.664\" x2=\"721.087\" y2=\"224.836\" stroke-linecap=\"round\" style=\"stroke:rgb(27,112,145);stroke-width:4\"/><line x1=\"721.087\" y1=\"224.836\" x2=\"852.067\" y2=\"222.55\" stroke-linecap=\"round\" style=\"stroke:rgb(209,106,149);stroke-width:4\"/><line x1=\"852.067\" y1=\"222.55\" x2=\"400\" y2=\"250\" stroke-linecap=\"round\" style=\"stroke:rgb(209,106,149);stroke-width:4\"/><line x1=\"400\" y1=\"250\" x2=\"304.37\" y2=\"220.763\" stroke-linecap=\"round\" style=\"stroke:rgb(31,132,94);stroke-width:4\"/><line x1=\"304.37\" y1=\"220.763\" x2=\"194.124\" y2=\"289.653\" stroke-linecap=\"round\" style=\"stroke:rgb(178,160,169);stroke-width:4\"/><line x1=\"194.124\" y1=\"289.653\" x2=\"190.983\" y2=\"469.626\" stroke-linecap=\"round\" style=\"stroke:rgb(149,225,70);stroke-width:4\"/><line x1=\"190.983\" y1=\"469.626\" x2=\"143.124\" y2=\"608.617\" stroke-linecap=\"round\" style=\"stroke:rgb(60,184,249);stroke-width:4\"/><line x1=\"143.124\" y1=\"608.617\" x2=\"400\" y2=\"250\" stroke-linecap=\"round\" style=\"stroke:rgb(60,184,249);stroke-width:4\"/><line x1=\"400\" y1=\"250\" x2=\"335.213\" y2=\"371.847\" stroke-linecap=\"round\" style=\"stroke:rgb(182,192,255);stroke-width:4\"/><line x1=\"335.213\" y1=\"371.847\" x2=\"396.493\" y2=\"240.432\" stroke-linecap=\"round\" style=\"stroke:rgb(131,129,25);stroke-width:4\"/><line x1=\"396.493\" y1=\"240.432\" x2=\"578.702\" y2=\"266.04\" stroke-linecap=\"round\" style=\"stroke:rgb(171,49,250);stroke-width:4\"/><line x1=\"578.702\" y1=\"266.04\" x2=\"526.937\" y2=\"416.377\" stroke-linecap=\"round\" style=\"stroke:rgb(121,82,36);stroke-width:4\"/><line x1=\"526.937\" y1=\"416.377\" x2=\"348.736\" y2=\"507.175\" stroke-linecap=\"round\" style=\"stroke:rgb(156,243,106);stroke-width:4\"/><line x1=\"348.736\" y1=\"507.175\" x2=\"400\" y2=\"250\" stroke-linecap=\"round\" style=\"stroke:rgb(156,243,106);stroke-width:4\"/><line x1=\"400\" y1=\"250\" x2=\"455.624\" y2=\"157.426\" stroke-linecap=\"round\" style=\"stroke:rgb(165,62,7);stroke-width:4\"/><line x1=\"455.624\" y1=\"157.426\" x2=\"295.208\" y2=\"232.229\" stroke-linecap=\"round\" style=\"stroke:rgb(67,42,152);stroke-width:4\"/><line x1=\"295.208\" y1=\"232.229\" x2=\"247.798\" y2=\"66.892\" stroke-linecap=\"round\" style=\"stroke:rgb(68,181,187);stroke-width:4\"/><line x1=\"247.798\" y1=\"66.892\" x2=\"377.128\" y2=\"154.126\" stroke-linecap=\"round\" style=\"stroke:rgb(183,205,89);stroke-width:4\"/><line x1=\"377.128\" y1=\"154.126\" x2=\"452.148\" y2=\"234.575\" stroke-linecap=\"round\" style=\"stroke:rgb(61,94,207);stroke-width:4\"/><line x1=\"452.148\" y1=\"234.575\" x2=\"490.891\" y2=\"122.058\" stroke-linecap=\"round\" style=\"stroke:rgb(2,39,242);stroke-width:4\"/><line x1=\"490.891\" y1=\"122.058\" x2=\"461.951\" y2=\"304.78\" stroke-linecap=\"round\" style=\"stroke:rgb(98,63,41);stroke-width:4\"/><line x1=\"461.951\" y1=\"304.78\" x2=\"567.665\" y2=\"393.485\" stroke-linecap=\"round\" style=\"stroke:rgb(235,8,117);stroke-width:4\"/><line x1=\"567.665\" y1=\"393.485\" x2=\"694.809\" y2=\"325.881\" stroke-linecap=\"round\" style=\"stroke:rgb(116,199,204);stroke-width:4\"/><line x1=\"694.809\" y1=\"325.881\" x2=\"671.149\" y2=\"447.603\" stroke-linecap=\"round\" style=\"stroke:rgb(3,117,188);stroke-width:4\"/><line x1=\"671.149\" y1=\"447.603\" x2=\"731.687\" y2=\"281.277\" stroke-linecap=\"round\" style=\"stroke:rgb(224,204,14);stroke-width:4\"/><line x1=\"731.687\" y1=\"281.277\" x2=\"660.42\" y2=\"152.708\" stroke-linecap=\"round\" style=\"stroke:rgb(80,27,137);stroke-width:4\"/><line x1=\"660.42\" y1=\"152.708\" x2=\"757.395\" y2=\"197.928\" stroke-linecap=\"round\" style=\"stroke:rgb(54,182,236);stroke-width:4\"/><line x1=\"757.395\" y1=\"197.928\" x2=\"866.329\" y2=\"194.124\" stroke-linecap=\"round\" style=\"stroke:rgb(192,29,11);stroke-width:4\"/><line x1=\"866.329\" y1=\"194.124\" x2=\"400\" y2=\"250\" stroke-linecap=\"round\" style=\"stroke:rgb(192,29,11);stroke-width:4\"/><line x1=\"400\" y1=\"250\" x2=\"421.119\" y2=\"383.338\" stroke-linecap=\"round\" style=\"stroke:rgb(131,134,136);stroke-width:4\"/><line x1=\"421.119\" y1=\"383.338\" x2=\"497.896\" y2=\"478.15\" stroke-linecap=\"round\" style=\"stroke:rgb(236,13,251);stroke-width:4\"/><line x1=\"497.896\" y1=\"478.15\" x2=\"503.496\" y2=\"371.297\" stroke-linecap=\"round\" style=\"stroke:rgb(37,17,241);stroke-width:4\"/><line x1=\"503.496\" y1=\"371.297\" x2=\"649.856\" y2=\"433.423\" stroke-linecap=\"round\" style=\"stroke:rgb(217,48,148);stroke-width:4\"/><line x1=\"649.856\" y1=\"433.423\" x2=\"739.963\" y2=\"370.33\" stroke-linecap=\"round\" style=\"stroke:rgb(124,223,82);stroke-width:4\"/><line x1=\"739.963\" y1=\"370.33\" x2=\"675.569\" y2=\"284.876\" stroke-linecap=\"round\" style=\"stroke:rgb(19,1,97);stroke-width:4\"/><line x1=\"675.569\" y1=\"284.876\" x2=\"782.977\" y2=\"273.587\" stroke-linecap=\"round\" style=\"stroke:rgb(149,149,11);stroke-width:4\"/><line x1=\"782.977\" y1=\"273.587\" x2=\"626.837\" y2=\"160.144\" stroke-linecap=\"round\" style=\"stroke:rgb(236,162,146);stroke-width:4\"/><line x1=\"626.837\" y1=\"160.144\" x2=\"687.248\" y2=\"256.821\" stroke-linecap=\"round\" style=\"stroke:rgb(253,121,27);stroke-width:4\"/><line x1=\"687.248\" y1=\"256.821\" x2=\"831.116\" y2=\"117.889\" stroke-linecap=\"round\" style=\"stroke:rgb(250,182,93);stroke-width:4\"/><line x1=\"831.116\" y1=\"117.889\" x2=\"400\" y2=\"250\" stroke-linecap=\"round\" style=\"stroke:rgb(250,182,93);stroke-width:4\"/><line x1=\"400\" y1=\"250\" x2=\"460.542\" y2=\"333.329\" stroke-linecap=\"round\" style=\"stroke:rgb(145,226,22);stroke-width:4\"/><line x1=\"460.542\" y1=\"333.329\" x2=\"564.932\" y2=\"314.922\" stroke-linecap=\"round\" style=\"stroke:rgb(135,43,242);stroke-width:4\"/><line x1=\"564.932\" y1=\"314.922\" x2=\"592.308\" y2=\"142.077\" stroke-linecap=\"round\" style=\"stroke:rgb(105,244,99);stroke-width:4\"/><line x1=\"592.308\" y1=\"142.077\" x2=\"749.639\" y2=\"23.519\" stroke-linecap=\"round\" style=\"stroke:rgb(42,163,3);stroke-width:4\"/><line x1=\"749.639\" y1=\"23.519\" x2=\"867.611\" y2=\"137.443\" stroke-linecap=\"round\" style=\"stroke:rgb(14,96,212);stroke-width:4\"/><line x1=\"867.611\" y1=\"137.443\" x2=\"400\" y2=\"250\" stroke-linecap=\"round\" style=\"stroke:rgb(14,96,212);stroke-width:4\"/><line x1=\"400\" y1=\"250\" x2=\"388.281\" y2=\"82.409\" stroke-linecap=\"round\" style=\"stroke:rgb(89,109,72);stroke-width:4\"/><line x1=\"388.281\" y1=\"82.409\" x2=\"572.437\" y2=\"124.925\" stroke-linecap=\"round\" style=\"stroke:rgb(10,138,66);stroke-width:4\"/><line x1=\"572.437\" y1=\"124.925\" x2=\"705.815\" y2=\"65.541\" stroke-linecap=\"round\" style=\"stroke:rgb(195,88,210);stroke-width:4\"/><line x1=\"705.815\" y1=\"65.541\" x2=\"601.878\" y2=\"69.171\" stroke-linecap=\"round\" style=\"stroke:rgb(54,9,118);stroke-width:4\"/><line x1=\"601.878\" y1=\"69.171\" x2=\"496.973\" y2=\"-22.021\" stroke-linecap=\"round\" style=\"stroke:rgb(222,243,77);stroke-width:4\"/><line x1=\"496.973\" y1=\"-22.021\" x2=\"400\" y2=\"250\" stroke-linecap=\"round\" style=\"stroke:rgb(222,243,77);stroke-width:4\"/><line x1=\"400\" y1=\"250\" x2=\"506.618\" y2=\"272.662\" stroke-linecap=\"round\" style=\"stroke:rgb(120,103,154);stroke-width:4\"/><line x1=\"506.618\" y1=\"272.662\" x2=\"473.55\" y2=\"129.43\" stroke-linecap=\"round\" style=\"stroke:rgb(209,53,136);stroke-width:4\"/><line x1=\"473.55\" y1=\"129.43\" x2=\"614.11\" y2=\"235.349\" stroke-linecap=\"round\" style=\"stroke:rgb(165,215,187);stroke-width:4\"/><line x1=\"614.11\" y1=\"235.349\" x2=\"456.704\" y2=\"302.164\" stroke-linecap=\"round\" style=\"stroke:rgb(217,254,19);stroke-width:4\"/><line x1=\"456.704\" y1=\"302.164\" x2=\"359.622\" y2=\"372.698\" stroke-linecap=\"round\" style=\"stroke:rgb(106,141,54);stroke-width:4\"/><line x1=\"359.622\" y1=\"372.698\" x2=\"367.42\" y2=\"521.494\" stroke-linecap=\"round\" style=\"stroke:rgb(22,206,31);stroke-width:4\"/><line x1=\"367.42\" y1=\"521.494\" x2=\"400\" y2=\"250\" stroke-linecap=\"round\" style=\"stroke:rgb(22,206,31);stroke-width:4\"/><line x1=\"400\" y1=\"250\" x2=\"485.588\" y2=\"144.308\" stroke-linecap=\"round\" style=\"stroke:rgb(16,143,22);stroke-width:4\"/><line x1=\"485.588\" y1=\"144.308\" x2=\"341.588\" y2=\"144.308\" stroke-linecap=\"round\" style=\"stroke:rgb(194,199,111);stroke-width:4\"/><line x1=\"341.588\" y1=\"144.308\" x2=\"395.402\" y2=\"241.391\" stroke-linecap=\"round\" style=\"stroke:rgb(161,133,45);stroke-width:4\"/><line x1=\"395.402\" y1=\"241.391\" x2=\"550.469\" y2=\"265.951\" stroke-linecap=\"round\" style=\"stroke:rgb(238,246,146);stroke-width:4\"/><line x1=\"550.469\" y1=\"265.951\" x2=\"427.488\" y2=\"263.804\" stroke-linecap=\"round\" style=\"stroke:rgb(233,26,146);stroke-width:4\"/><line x1=\"427.488\" y1=\"263.804\" x2=\"256.618\" y2=\"236.741\" stroke-linecap=\"round\" style=\"stroke:rgb(120,165,36);stroke-width:4\"/><line x1=\"256.618\" y1=\"236.741\" x2=\"347.695\" y2=\"65.449\" stroke-linecap=\"round\" style=\"stroke:rgb(121,60,7);stroke-width:4\"/><line x1=\"347.695\" y1=\"65.449\" x2=\"164.723\" y2=\"62.255\" stroke-linecap=\"round\" style=\"stroke:rgb(42,40,3);stroke-width:4\"/><line x1=\"164.723\" y1=\"62.255\" x2=\"62.745\" y2=\"231.974\" stroke-linecap=\"round\" style=\"stroke:rgb(141,88,61);stroke-width:4\"/><line x1=\"62.745\" y1=\"231.974\" x2=\"17.817\" y2=\"362.456\" stroke-linecap=\"round\" style=\"stroke:rgb(243,248,60);stroke-width:4\"/><line x1=\"17.817\" y1=\"362.456\" x2=\"131.246\" y2=\"394.981\" stroke-linecap=\"round\" style=\"stroke:rgb(174,240,30);stroke-width:4\"/><line x1=\"131.246\" y1=\"394.981\" x2=\"34.321\" y2=\"470.707\" stroke-linecap=\"round\" style=\"stroke:rgb(5,9,96);stroke-width:4\"/><line x1=\"34.321\" y1=\"470.707\" x2=\"-83.881\" y2=\"378.358\" stroke-linecap=\"round\" style=\"stroke:rgb(225,49,250);stroke-width:4\"/><line x1=\"-83.881\" y1=\"378.358\" x2=\"400\" y2=\"250\" stroke-linecap=\"round\" style=\"stroke:rgb(225,49,250);stroke-width:4\"/><line x1=\"400\" y1=\"250\" x2=\"379.683\" y2=\"365.223\" stroke-linecap=\"round\" style=\"stroke:rgb(53,234,188);stroke-width:4\"/><line x1=\"379.683\" y1=\"365.223\" x2=\"344.953\" y2=\"486.342\" stroke-linecap=\"round\" style=\"stroke:rgb(165,255,110);stroke-width:4\"/><line x1=\"344.953\" y1=\"486.342\" x2=\"173.095\" y2=\"513.562\" stroke-linecap=\"round\" style=\"stroke:rgb(227,64,16);stroke-width:4\"/><line x1=\"173.095\" y1=\"513.562\" x2=\"400\" y2=\"250\" stroke-linecap=\"round\" style=\"stroke:rgb(227,64,16);stroke-width:4\"/><line x1=\"400\" y1=\"250\" x2=\"509.663\" y2=\"198.863\" stroke-linecap=\"round\" style=\"stroke:rgb(98,73,171);stroke-width:4\"/><line x1=\"509.663\" y1=\"198.863\" x2=\"364.849\" y2=\"93.649\" stroke-linecap=\"round\" style=\"stroke:rgb(236,179,72);stroke-width:4\"/><line x1=\"364.849\" y1=\"93.649\" x2=\"263.82\" y2=\"11.837\" stroke-linecap=\"round\" style=\"stroke:rgb(72,227,27);stroke-width:4\"/><line x1=\"263.82\" y1=\"11.837\" x2=\"254.609\" y2=\"-163.922\" stroke-linecap=\"round\" style=\"stroke:rgb(57,80,171);stroke-width:4\"/><line x1=\"254.609\" y1=\"-163.922\" x2=\"400\" y2=\"250\" stroke-linecap=\"round\" style=\"stroke:rgb(57,80,171);stroke-width:4\"/><line x1=\"400\" y1=\"250\" x2=\"493.383\" y2=\"184.612\" stroke-linecap=\"round\" style=\"stroke:rgb(61,127,3);stroke-width:4\"/><line x1=\"493.383\" y1=\"184.612\" x2=\"563.568\" y2=\"274.445\" stroke-linecap=\"round\" style=\"stroke:rgb(98,130,182);stroke-width:4\"/><line x1=\"563.568\" y1=\"274.445\" x2=\"477.209\" y2=\"97.383\" stroke-linecap=\"round\" style=\"stroke:rgb(161,203,109);stroke-width:4\"/><line x1=\"477.209\" y1=\"97.383\" x2=\"442.291\" y2=\"277.021\" stroke-linecap=\"round\" style=\"stroke:rgb(206,148,151);stroke-width:4\"/><line x1=\"442.291\" y1=\"277.021\" x2=\"355.908\" y2=\"333.119\" stroke-linecap=\"round\" style=\"stroke:rgb(158,196,54);stroke-width:4\"/><line x1=\"355.908\" y1=\"333.119\" x2=\"493.811\" y2=\"377.926\" stroke-linecap=\"round\" style=\"stroke:rgb(58,220,155);stroke-width:4\"/><line x1=\"493.811\" y1=\"377.926\" x2=\"657.392\" y2=\"457.71\" stroke-linecap=\"round\" style=\"stroke:rgb(35,145,71);stroke-width:4\"/><line x1=\"657.392\" y1=\"457.71\" x2=\"796.495\" y2=\"404.313\" stroke-linecap=\"round\" style=\"stroke:rgb(76,61,148);stroke-width:4\"/><line x1=\"796.495\" y1=\"404.313\" x2=\"741.227\" y2=\"304.606\" stroke-linecap=\"round\" style=\"stroke:rgb(243,9,6);stroke-width:4\"/><line x1=\"741.227\" y1=\"304.606\" x2=\"799.37\" y2=\"144.858\" stroke-linecap=\"round\" style=\"stroke:rgb(71,214,129);stroke-width:4\"/><line x1=\"799.37\" y1=\"144.858\" x2=\"792.844\" y2=\"-42.028\" stroke-linecap=\"round\" style=\"stroke:rgb(22,38,4);stroke-width:4\"/><line x1=\"792.844\" y1=\"-42.028\" x2=\"400\" y2=\"250\" stroke-linecap=\"round\" style=\"stroke:rgb(22,38,4);stroke-width:4\"/><line x1=\"400\" y1=\"250\" x2=\"518.489\" y2=\"146.999\" stroke-linecap=\"round\" style=\"stroke:rgb(29,182,106);stroke-width:4\"/><line x1=\"518.489\" y1=\"146.999\" x2=\"616.015\" y2=\"42.415\" stroke-linecap=\"round\" style=\"stroke:rgb(24,166,164);stroke-width:4\"/><line x1=\"616.015\" y1=\"42.415\" x2=\"707.161\" y2=\"-103.449\" stroke-linecap=\"round\" style=\"stroke:rgb(52,116,152);stroke-width:4\"/><line x1=\"707.161\" y1=\"-103.449\" x2=\"400\" y2=\"250\" stroke-linecap=\"round\" style=\"stroke:rgb(52,116,152);stroke-width:4\"/><line x1=\"400\" y1=\"250\" x2=\"236.055\" y2=\"333.534\" stroke-linecap=\"round\" style=\"stroke:rgb(194,220,211);stroke-width:4\"/><line x1=\"236.055\" y1=\"333.534\" x2=\"162.637\" y2=\"228.683\" stroke-linecap=\"round\" style=\"stroke:rgb(73,119,73);stroke-width:4\"/><line x1=\"162.637\" y1=\"228.683\" x2=\"136.305\" y2=\"93.218\" stroke-linecap=\"round\" style=\"stroke:rgb(158,113,34);stroke-width:4\"/><line x1=\"136.305\" y1=\"93.218\" x2=\"159.025\" y2=\"191.629\" stroke-linecap=\"round\" style=\"stroke:rgb(123,31,103);stroke-width:4\"/><line x1=\"159.025\" y1=\"191.629\" x2=\"317.067\" y2=\"222.349\" stroke-linecap=\"round\" style=\"stroke:rgb(245,135,172);stroke-width:4\"/><line x1=\"317.067\" y1=\"222.349\" x2=\"512.15\" y2=\"249.766\" stroke-linecap=\"round\" style=\"stroke:rgb(34,161,78);stroke-width:4\"/><line x1=\"512.15\" y1=\"249.766\" x2=\"514.174\" y2=\"365.748\" stroke-linecap=\"round\" style=\"stroke:rgb(255,54,118);stroke-width:4\"/><line x1=\"514.174\" y1=\"365.748\" x2=\"424.997\" y2=\"446.044\" stroke-linecap=\"round\" style=\"stroke:rgb(203,44,82);stroke-width:4\"/><line x1=\"424.997\" y1=\"446.044\" x2=\"392.903\" y2=\"565.819\" stroke-linecap=\"round\" style=\"stroke:rgb(159,119,190);stroke-width:4\"/><line x1=\"392.903\" y1=\"565.819\" x2=\"400\" y2=\"250\" stroke-linecap=\"round\" style=\"stroke:rgb(159,119,190);stroke-width:4\"/><line x1=\"400\" y1=\"250\" x2=\"333.509\" y2=\"164.895\" stroke-linecap=\"round\" style=\"stroke:rgb(233,195,181);stroke-width:4\"/><line x1=\"333.509\" y1=\"164.895\" x2=\"284.446\" y2=\"336.0\" stroke-linecap=\"round\" style=\"stroke:rgb(243,21,124);stroke-width:4\"/><line x1=\"284.446\" y1=\"336.0\" x2=\"127.47\" y2=\"338.74\" stroke-linecap=\"round\" style=\"stroke:rgb(14,188,135);stroke-width:4\"/><line x1=\"127.47\" y1=\"338.74\" x2=\"315.435\" y2=\"318.984\" stroke-linecap=\"round\" style=\"stroke:rgb(206,41,80);stroke-width:4\"/><line x1=\"315.435\" y1=\"318.984\" x2=\"430.375\" y2=\"377.549\" stroke-linecap=\"round\" style=\"stroke:rgb(95,67,126);stroke-width:4\"/><line x1=\"430.375\" y1=\"377.549\" x2=\"391.035\" y2=\"524.37\" stroke-linecap=\"round\" style=\"stroke:rgb(19,162,38);stroke-width:4\"/><line x1=\"391.035\" y1=\"524.37\" x2=\"400\" y2=\"250\" stroke-linecap=\"round\" style=\"stroke:rgb(19,162,38);stroke-width:4\"/><line x1=\"400\" y1=\"250\" x2=\"246.198\" y2=\"294.102\" stroke-linecap=\"round\" style=\"stroke:rgb(96,60,100);stroke-width:4\"/><line x1=\"246.198\" y1=\"294.102\" x2=\"409.892\" y2=\"331.894\" stroke-linecap=\"round\" style=\"stroke:rgb(21,162,73);stroke-width:4\"/><line x1=\"409.892\" y1=\"331.894\" x2=\"551.704\" y2=\"356.899\" stroke-linecap=\"round\" style=\"stroke:rgb(222,242,21);stroke-width:4\"/><line x1=\"551.704\" y1=\"356.899\" x2=\"399.727\" y2=\"354.246\" stroke-linecap=\"round\" style=\"stroke:rgb(30,98,176);stroke-width:4\"/><line x1=\"399.727\" y1=\"354.246\" x2=\"479.766\" y2=\"262.171\" stroke-linecap=\"round\" style=\"stroke:rgb(215,158,55);stroke-width:4\"/><line x1=\"479.766\" y1=\"262.171\" x2=\"553.858\" y2=\"333.721\" stroke-linecap=\"round\" style=\"stroke:rgb(61,135,228);stroke-width:4\"/><line x1=\"553.858\" y1=\"333.721\" x2=\"579.639\" y2=\"212.431\" stroke-linecap=\"round\" style=\"stroke:rgb(247,36,141);stroke-width:4\"/><line x1=\"579.639\" y1=\"212.431\" x2=\"471.035\" y2=\"139.177\" stroke-linecap=\"round\" style=\"stroke:rgb(235,20,230);stroke-width:4\"/><line x1=\"471.035\" y1=\"139.177\" x2=\"397.035\" y2=\"-6.057\" stroke-linecap=\"round\" style=\"stroke:rgb(250,143,229);stroke-width:4\"/><line x1=\"397.035\" y1=\"-6.057\" x2=\"400\" y2=\"250\" stroke-linecap=\"round\" style=\"stroke:rgb(250,143,229);stroke-width:4\"/><line x1=\"400\" y1=\"250\" x2=\"522.447\" y2=\"182.127\" stroke-linecap=\"round\" style=\"stroke:rgb(139,220,30);stroke-width:4\"/><line x1=\"522.447\" y1=\"182.127\" x2=\"606.176\" y2=\"10.457\" stroke-linecap=\"round\" style=\"stroke:rgb(230,211,53);stroke-width:4\"/><line x1=\"606.176\" y1=\"10.457\" x2=\"783.048\" y2=\"61.174\" stroke-linecap=\"round\" style=\"stroke:rgb(71,162,83);stroke-width:4\"/><line x1=\"783.048\" y1=\"61.174\" x2=\"644.133\" y2=\"56.323\" stroke-linecap=\"round\" style=\"stroke:rgb(193,78,229);stroke-width:4\"/><line x1=\"644.133\" y1=\"56.323\" x2=\"755.981\" y2=\"176.265\" stroke-linecap=\"round\" style=\"stroke:rgb(80,195,138);stroke-width:4\"/><line x1=\"755.981\" y1=\"176.265\" x2=\"603.619\" y2=\"282.95\" stroke-linecap=\"round\" style=\"stroke:rgb(134,201,138);stroke-width:4\"/><line x1=\"603.619\" y1=\"282.95\" x2=\"537.179\" y2=\"172.375\" stroke-linecap=\"round\" style=\"stroke:rgb(161,171,176);stroke-width:4\"/><line x1=\"537.179\" y1=\"172.375\" x2=\"527.288\" y2=\"-16.366\" stroke-linecap=\"round\" style=\"stroke:rgb(226,57,187);stroke-width:4\"/><line x1=\"527.288\" y1=\"-16.366\" x2=\"400\" y2=\"250\" stroke-linecap=\"round\" style=\"stroke:rgb(226,57,187);stroke-width:4\"/><line x1=\"400\" y1=\"250\" x2=\"319.5\" y2=\"110.57\" stroke-linecap=\"round\" style=\"stroke:rgb(167,128,28);stroke-width:4\"/><line x1=\"319.5\" y1=\"110.57\" x2=\"427.275\" y2=\"37.875\" stroke-linecap=\"round\" style=\"stroke:rgb(146,82,146);stroke-width:4\"/><line x1=\"427.275\" y1=\"37.875\" x2=\"244.859\" y2=\"83.356\" stroke-linecap=\"round\" style=\"stroke:rgb(217,173,228);stroke-width:4\"/><line x1=\"244.859\" y1=\"83.356\" x2=\"188.594\" y2=\"-49.197\" stroke-linecap=\"round\" style=\"stroke:rgb(130,209,229);stroke-width:4\"/><line x1=\"188.594\" y1=\"-49.197\" x2=\"400\" y2=\"250\" stroke-linecap=\"round\" style=\"stroke:rgb(130,209,229);stroke-width:4\"/><line x1=\"400\" y1=\"250\" x2=\"482.664\" y2=\"335.601\" stroke-linecap=\"round\" style=\"stroke:rgb(122,209,75);stroke-width:4\"/><line x1=\"482.664\" y1=\"335.601\" x2=\"507.994\" y2=\"515.83\" stroke-linecap=\"round\" style=\"stroke:rgb(83,162,245);stroke-width:4\"/><line x1=\"507.994\" y1=\"515.83\" x2=\"400\" y2=\"250\" stroke-linecap=\"round\" style=\"stroke:rgb(83,162,245);stroke-width:4\"/><line x1=\"400\" y1=\"250\" x2=\"300.012\" y2=\"346.558\" stroke-linecap=\"round\" style=\"stroke:rgb(78,161,41);stroke-width:4\"/><line x1=\"300.012\" y1=\"346.558\" x2=\"407.969\" y2=\"262.212\" stroke-linecap=\"round\" style=\"stroke:rgb(164,88,104);stroke-width:4\"/><line x1=\"407.969\" y1=\"262.212\" x2=\"399.386\" y2=\"98.437\" stroke-linecap=\"round\" style=\"stroke:rgb(41,202,145);stroke-width:4\"/><line x1=\"399.386\" y1=\"98.437\" x2=\"332.585\" y2=\"187.086\" stroke-linecap=\"round\" style=\"stroke:rgb(113,193,60);stroke-width:4\"/><line x1=\"332.585\" y1=\"187.086\" x2=\"228.014\" y2=\"26.061\" stroke-linecap=\"round\" style=\"stroke:rgb(248,66,14);stroke-width:4\"/><line x1=\"228.014\" y1=\"26.061\" x2=\"215.039\" y2=\"211.608\" stroke-linecap=\"round\" style=\"stroke:rgb(42,57,245);stroke-width:4\"/><line x1=\"215.039\" y1=\"211.608\" x2=\"208.548\" y2=\"397.495\" stroke-linecap=\"round\" style=\"stroke:rgb(36,64,248);stroke-width:4\"/><line x1=\"208.548\" y1=\"397.495\" x2=\"173.32\" y2=\"289.075\" stroke-linecap=\"round\" style=\"stroke:rgb(237,129,73);stroke-width:4\"/><line x1=\"173.32\" y1=\"289.075\" x2=\"103.73\" y2=\"366.362\" stroke-linecap=\"round\" style=\"stroke:rgb(84,219,126);stroke-width:4\"/><line x1=\"103.73\" y1=\"366.362\" x2=\"68.621\" y2=\"185.743\" stroke-linecap=\"round\" style=\"stroke:rgb(109,137,125);stroke-width:4\"/><line x1=\"68.621\" y1=\"185.743\" x2=\"55.137\" y2=\"57.45\" stroke-linecap=\"round\" style=\"stroke:rgb(53,247,40);stroke-width:4\"/><line x1=\"55.137\" y1=\"57.45\" x2=\"191.386\" y2=\"43.13\" stroke-linecap=\"round\" style=\"stroke:rgb(195,221,72);stroke-width:4\"/><line x1=\"191.386\" y1=\"43.13\" x2=\"344.29\" y2=\"154.221\" stroke-linecap=\"round\" style=\"stroke:rgb(49,184,250);stroke-width:4\"/><line x1=\"344.29\" y1=\"154.221\" x2=\"165.712\" y2=\"78.419\" stroke-linecap=\"round\" style=\"stroke:rgb(210,87,195);stroke-width:4\"/><line x1=\"165.712\" y1=\"78.419\" x2=\"58.933\" y2=\"33.094\" stroke-linecap=\"round\" style=\"stroke:rgb(108,226,172);stroke-width:4\"/><line x1=\"58.933\" y1=\"33.094\" x2=\"71.396\" y2=\"-109.362\" stroke-linecap=\"round\" style=\"stroke:rgb(212,72,253);stroke-width:4\"/><line x1=\"71.396\" y1=\"-109.362\" x2=\"400\" y2=\"250\" stroke-linecap=\"round\" style=\"stroke:rgb(212,72,253);stroke-width:4\"/><line x1=\"400\" y1=\"250\" x2=\"276.767\" y2=\"297.305\" stroke-linecap=\"round\" style=\"stroke:rgb(228,62,13);stroke-width:4\"/><line x1=\"276.767\" y1=\"297.305\" x2=\"398.228\" y2=\"248.232\" stroke-linecap=\"round\" style=\"stroke:rgb(169,14,176);stroke-width:4\"/><line x1=\"398.228\" y1=\"248.232\" x2=\"237.812\" y2=\"282.33\" stroke-linecap=\"round\" style=\"stroke:rgb(190,97,29);stroke-width:4\"/><line x1=\"237.812\" y1=\"282.33\" x2=\"408.657\" y2=\"347.911\" stroke-linecap=\"round\" style=\"stroke:rgb(179,116,56);stroke-width:4\"/><line x1=\"408.657\" y1=\"347.911\" x2=\"404.085\" y2=\"216.991\" stroke-linecap=\"round\" style=\"stroke:rgb(41,65,247);stroke-width:4\"/><line x1=\"404.085\" y1=\"216.991\" x2=\"275.206\" y2=\"164.921\" stroke-linecap=\"round\" style=\"stroke:rgb(215,3,163);stroke-width:4\"/><line x1=\"275.206\" y1=\"164.921\" x2=\"354.044\" y2=\"269.542\" stroke-linecap=\"round\" style=\"stroke:rgb(166,61,142);stroke-width:4\"/><line x1=\"354.044\" y1=\"269.542\" x2=\"205.185\" y2=\"161.39\" stroke-linecap=\"round\" style=\"stroke:rgb(99,54,58);stroke-width:4\"/><line x1=\"205.185\" y1=\"161.39\" x2=\"321.214\" y2=\"199.09\" stroke-linecap=\"round\" style=\"stroke:rgb(251,203,182);stroke-width:4\"/><line x1=\"321.214\" y1=\"199.09\" x2=\"392.574\" y2=\"333.298\" stroke-linecap=\"round\" style=\"stroke:rgb(0,54,8);stroke-width:4\"/><line x1=\"392.574\" y1=\"333.298\" x2=\"200.691\" y2=\"339.999\" stroke-linecap=\"round\" style=\"stroke:rgb(89,32,162);stroke-width:4\"/><line x1=\"200.691\" y1=\"339.999\" x2=\"183.548\" y2=\"503.101\" stroke-linecap=\"round\" style=\"stroke:rgb(138,163,38);stroke-width:4\"/><line x1=\"183.548\" y1=\"503.101\" x2=\"400\" y2=\"250\" stroke-linecap=\"round\" style=\"stroke:rgb(138,163,38);stroke-width:4\"/><line x1=\"400\" y1=\"250\" x2=\"323.774\" y2=\"123.139\" stroke-linecap=\"round\" style=\"stroke:rgb(197,53,178);stroke-width:4\"/><line x1=\"323.774\" y1=\"123.139\" x2=\"195.749\" y2=\"145.713\" stroke-linecap=\"round\" style=\"stroke:rgb(10,79,11);stroke-width:4\"/><line x1=\"195.749\" y1=\"145.713\" x2=\"272.133\" y2=\"227.625\" stroke-linecap=\"round\" style=\"stroke:rgb(43,0,210);stroke-width:4\"/><line x1=\"272.133\" y1=\"227.625\" x2=\"237.931\" y2=\"321.594\" stroke-linecap=\"round\" style=\"stroke:rgb(61,173,255);stroke-width:4\"/><line x1=\"237.931\" y1=\"321.594\" x2=\"83.415\" y2=\"403.752\" stroke-linecap=\"round\" style=\"stroke:rgb(138,70,160);stroke-width:4\"/><line x1=\"83.415\" y1=\"403.752\" x2=\"16.224\" y2=\"271.883\" stroke-linecap=\"round\" style=\"stroke:rgb(145,186,148);stroke-width:4\"/><line x1=\"16.224\" y1=\"271.883\" x2=\"157.665\" y2=\"157.347\" stroke-linecap=\"round\" style=\"stroke:rgb(65,196,15);stroke-width:4\"/><line x1=\"157.665\" y1=\"157.347\" x2=\"221.665\" y2=\"46.496\" stroke-linecap=\"round\" style=\"stroke:rgb(190,19,81);stroke-width:4\"/><line x1=\"221.665\" y1=\"46.496\" x2=\"399.331\" y2=\"68.311\" stroke-linecap=\"round\" style=\"stroke:rgb(7,44,243);stroke-width:4\"/><line x1=\"399.331\" y1=\"68.311\" x2=\"459.887\" y2=\"244.177\" stroke-linecap=\"round\" style=\"stroke:rgb(186,150,201);stroke-width:4\"/><line x1=\"459.887\" y1=\"244.177\" x2=\"418.72\" y2=\"437.85\" stroke-linecap=\"round\" style=\"stroke:rgb(84,192,207);stroke-width:4\"/><line x1=\"418.72\" y1=\"437.85\" x2=\"523.817\" y2=\"308.067\" stroke-linecap=\"round\" style=\"stroke:rgb(163,127,17);stroke-width:4\"/><line x1=\"523.817\" y1=\"308.067\" x2=\"455.682\" y2=\"226.866\" stroke-linecap=\"round\" style=\"stroke:rgb(130,72,181);stroke-width:4\"/><line x1=\"455.682\" y1=\"226.866\" x2=\"488.239\" y2=\"132.314\" stroke-linecap=\"round\" style=\"stroke:rgb(12,176,244);stroke-width:4\"/><line x1=\"488.239\" y1=\"132.314\" x2=\"305.267\" y2=\"129.12\" stroke-linecap=\"round\" style=\"stroke:rgb(58,232,0);stroke-width:4\"/><line x1=\"305.267\" y1=\"129.12\" x2=\"433.065\" y2=\"175.635\" stroke-linecap=\"round\" style=\"stroke:rgb(225,109,166);stroke-width:4\"/><line x1=\"433.065\" y1=\"175.635\" x2=\"308.477\" y2=\"216.116\" stroke-linecap=\"round\" style=\"stroke:rgb(13,166,172);stroke-width:4\"/><line x1=\"308.477\" y1=\"216.116\" x2=\"118.409\" y2=\"249.63\" stroke-linecap=\"round\" style=\"stroke:rgb(223,170,131);stroke-width:4\"/><line x1=\"118.409\" y1=\"249.63\" x2=\"10.611\" y2=\"297.625\" stroke-linecap=\"round\" style=\"stroke:rgb(15,118,207);stroke-width:4\"/><line x1=\"10.611\" y1=\"297.625\" x2=\"-2.985\" y2=\"453.031\" stroke-linecap=\"round\" style=\"stroke:rgb(62,176,208);stroke-width:4\"/><line x1=\"-2.985\" y1=\"453.031\" x2=\"400\" y2=\"250\" stroke-linecap=\"round\" style=\"stroke:rgb(62,176,208);stroke-width:4\"/><line x1=\"400\" y1=\"250\" x2=\"309.948\" y2=\"378.607\" stroke-linecap=\"round\" style=\"stroke:rgb(180,0,50);stroke-width:4\"/><line x1=\"309.948\" y1=\"378.607\" x2=\"291.969\" y2=\"549.665\" stroke-linecap=\"round\" style=\"stroke:rgb(123,45,211);stroke-width:4\"/><line x1=\"291.969\" y1=\"549.665\" x2=\"400\" y2=\"250\" stroke-linecap=\"round\" style=\"stroke:rgb(123,45,211);stroke-width:4\"/><line x1=\"400\" y1=\"250\" x2=\"489.321\" y2=\"387.542\" stroke-linecap=\"round\" style=\"stroke:rgb(154,60,36);stroke-width:4\"/><line x1=\"489.321\" y1=\"387.542\" x2=\"401.564\" y2=\"512.872\" stroke-linecap=\"round\" style=\"stroke:rgb(240,18,11);stroke-width:4\"/><line x1=\"401.564\" y1=\"512.872\" x2=\"400\" y2=\"250\" stroke-linecap=\"round\" style=\"stroke:rgb(240,18,11);stroke-width:4\"/><line x1=\"400\" y1=\"250\" x2=\"282.277\" y2=\"170.595\" stroke-linecap=\"round\" style=\"stroke:rgb(45,164,28);stroke-width:4\"/><line x1=\"282.277\" y1=\"170.595\" x2=\"396.278\" y2=\"144.276\" stroke-linecap=\"round\" style=\"stroke:rgb(186,146,50);stroke-width:4\"/><line x1=\"396.278\" y1=\"144.276\" x2=\"294.91\" y2=\"113.285\" stroke-linecap=\"round\" style=\"stroke:rgb(174,130,121);stroke-width:4\"/><line x1=\"294.91\" y1=\"113.285\" x2=\"143.557\" y2=\"42.708\" stroke-linecap=\"round\" style=\"stroke:rgb(108,115,152);stroke-width:4\"/><line x1=\"143.557\" y1=\"42.708\" x2=\"20.115\" y2=\"-89.667\" stroke-linecap=\"round\" style=\"stroke:rgb(215,151,213);stroke-width:4\"/><line x1=\"20.115\" y1=\"-89.667\" x2=\"400\" y2=\"250\" stroke-linecap=\"round\" style=\"stroke:rgb(215,151,213);stroke-width:4\"/><line x1=\"400\" y1=\"250\" x2=\"294.34\" y2=\"87.298\" stroke-linecap=\"round\" style=\"stroke:rgb(129,167,170);stroke-width:4\"/><line x1=\"294.34\" y1=\"87.298\" x2=\"150.913\" y2=\"151.156\" stroke-linecap=\"round\" style=\"stroke:rgb(141,48,231);stroke-width:4\"/><line x1=\"150.913\" y1=\"151.156\" x2=\"-14.986\" y2=\"156.949\" stroke-linecap=\"round\" style=\"stroke:rgb(171,221,91);stroke-width:4\"/><line x1=\"-14.986\" y1=\"156.949\" x2=\"400\" y2=\"250\" stroke-linecap=\"round\" style=\"stroke:rgb(171,221,91);stroke-width:4\"/><line x1=\"400\" y1=\"250\" x2=\"413.672\" y2=\"445.523\" stroke-linecap=\"round\" style=\"stroke:rgb(85,215,252);stroke-width:4\"/><line x1=\"413.672\" y1=\"445.523\" x2=\"242.458\" y2=\"372.847\" stroke-linecap=\"round\" style=\"stroke:rgb(48,153,41);stroke-width:4\"/><line x1=\"242.458\" y1=\"372.847\" x2=\"295.741\" y2=\"492.521\" stroke-linecap=\"round\" style=\"stroke:rgb(30,213,61);stroke-width:4\"/><line x1=\"295.741\" y1=\"492.521\" x2=\"231.097\" y2=\"575.262\" stroke-linecap=\"round\" style=\"stroke:rgb(232,186,174);stroke-width:4\"/><line x1=\"231.097\" y1=\"575.262\" x2=\"400\" y2=\"250\" stroke-linecap=\"round\" style=\"stroke:rgb(232,186,174);stroke-width:4\"/><line x1=\"400\" y1=\"250\" x2=\"351.644\" y2=\"340.944\" stroke-linecap=\"round\" style=\"stroke:rgb(131,174,184);stroke-width:4\"/><line x1=\"351.644\" y1=\"340.944\" x2=\"280.628\" y2=\"195.339\" stroke-linecap=\"round\" style=\"stroke:rgb(251,137,66);stroke-width:4\"/><line x1=\"280.628\" y1=\"195.339\" x2=\"151.718\" y2=\"263.882\" stroke-linecap=\"round\" style=\"stroke:rgb(250,137,191);stroke-width:4\"/><line x1=\"151.718\" y1=\"263.882\" x2=\"41.395\" y2=\"228.036\" stroke-linecap=\"round\" style=\"stroke:rgb(60,100,134);stroke-width:4\"/><line x1=\"41.395\" y1=\"228.036\" x2=\"32.341\" y2=\"55.273\" stroke-linecap=\"round\" style=\"stroke:rgb(246,165,67);stroke-width:4\"/><line x1=\"32.341\" y1=\"55.273\" x2=\"59.776\" y2=\"157.661\" stroke-linecap=\"round\" style=\"stroke:rgb(107,28,117);stroke-width:4\"/><line x1=\"59.776\" y1=\"157.661\" x2=\"-3.785\" y2=\"236.153\" stroke-linecap=\"round\" style=\"stroke:rgb(155,135,174);stroke-width:4\"/><line x1=\"-3.785\" y1=\"236.153\" x2=\"400\" y2=\"250\" stroke-linecap=\"round\" style=\"stroke:rgb(155,135,174);stroke-width:4\"/><line x1=\"400\" y1=\"250\" x2=\"293.608\" y2=\"368.16\" stroke-linecap=\"round\" style=\"stroke:rgb(156,98,239);stroke-width:4\"/><line x1=\"293.608\" y1=\"368.16\" x2=\"164.507\" y2=\"407.63\" stroke-linecap=\"round\" style=\"stroke:rgb(149,219,18);stroke-width:4\"/><line x1=\"164.507\" y1=\"407.63\" x2=\"284.153\" y2=\"299.9\" stroke-linecap=\"round\" style=\"stroke:rgb(117,27,16);stroke-width:4\"/><line x1=\"284.153\" y1=\"299.9\" x2=\"183.404\" y2=\"278.485\" stroke-linecap=\"round\" style=\"stroke:rgb(241,72,122);stroke-width:4\"/><line x1=\"183.404\" y1=\"278.485\" x2=\"99.047\" y2=\"430.669\" stroke-linecap=\"round\" style=\"stroke:rgb(162,99,178);stroke-width:4\"/><line x1=\"99.047\" y1=\"430.669\" x2=\"275.919\" y2=\"379.952\" stroke-linecap=\"round\" style=\"stroke:rgb(113,52,244);stroke-width:4\"/><line x1=\"275.919\" y1=\"379.952\" x2=\"159.344\" y2=\"304.247\" stroke-linecap=\"round\" style=\"stroke:rgb(140,109,94);stroke-width:4\"/><line x1=\"159.344\" y1=\"304.247\" x2=\"182.432\" y2=\"423.024\" stroke-linecap=\"round\" style=\"stroke:rgb(140,197,162);stroke-width:4\"/><line x1=\"182.432\" y1=\"423.024\" x2=\"86.775\" y2=\"304.898\" stroke-linecap=\"round\" style=\"stroke:rgb(158,177,78);stroke-width:4\"/><line x1=\"86.775\" y1=\"304.898\" x2=\"65.5\" y2=\"170.572\" stroke-linecap=\"round\" style=\"stroke:rgb(14,72,25);stroke-width:4\"/><line x1=\"65.5\" y1=\"170.572\" x2=\"44.694\" y2=\"39.209\" stroke-linecap=\"round\" style=\"stroke:rgb(12,204,157);stroke-width:4\"/><line x1=\"44.694\" y1=\"39.209\" x2=\"175.67\" y2=\"-59.489\" stroke-linecap=\"round\" style=\"stroke:rgb(151,38,101);stroke-width:4\"/><line x1=\"175.67\" y1=\"-59.489\" x2=\"400\" y2=\"250\" stroke-linecap=\"round\" style=\"stroke:rgb(151,38,101);stroke-width:4\"/><line x1=\"400\" y1=\"250\" x2=\"284.922\" y2=\"287.391\" stroke-linecap=\"round\" style=\"stroke:rgb(154,190,124);stroke-width:4\"/><line x1=\"284.922\" y1=\"287.391\" x2=\"331.41\" y2=\"387.085\" stroke-linecap=\"round\" style=\"stroke:rgb(112,201,83);stroke-width:4\"/><line x1=\"331.41\" y1=\"387.085\" x2=\"450.09\" y2=\"435.035\" stroke-linecap=\"round\" style=\"stroke:rgb(229,94,155);stroke-width:4\"/><line x1=\"450.09\" y1=\"435.035\" x2=\"309.176\" y2=\"439.956\" stroke-linecap=\"round\" style=\"stroke:rgb(90,29,185);stroke-width:4\"/><line x1=\"309.176\" y1=\"439.956\" x2=\"302.789\" y2=\"257.067\" stroke-linecap=\"round\" style=\"stroke:rgb(163,245,237);stroke-width:4\"/><line x1=\"302.789\" y1=\"257.067\" x2=\"113.049\" y2=\"267.011\" stroke-linecap=\"round\" style=\"stroke:rgb(50,7,62);stroke-width:4\"/><line x1=\"113.049\" y1=\"267.011\" x2=\"108.861\" y2=\"147.084\" stroke-linecap=\"round\" style=\"stroke:rgb(98,116,186);stroke-width:4\"/><line x1=\"108.861\" y1=\"147.084\" x2=\"127.258\" y2=\"-27.952\" stroke-linecap=\"round\" style=\"stroke:rgb(16,94,135);stroke-width:4\"/><line x1=\"127.258\" y1=\"-27.952\" x2=\"400\" y2=\"250\" stroke-linecap=\"round\" style=\"stroke:rgb(16,94,135);stroke-width:4\"/><line x1=\"400\" y1=\"250\" x2=\"225.666\" y2=\"234.748\" stroke-linecap=\"round\" style=\"stroke:rgb(237,77,60);stroke-width:4\"/><line x1=\"225.666\" y1=\"234.748\" x2=\"356.499\" y2=\"149.784\" stroke-linecap=\"round\" style=\"stroke:rgb(231,33,155);stroke-width:4\"/><line x1=\"356.499\" y1=\"149.784\" x2=\"269.17\" y2=\"223.062\" stroke-linecap=\"round\" style=\"stroke:rgb(48,181,118);stroke-width:4\"/><line x1=\"269.17\" y1=\"223.062\" x2=\"163.938\" y2=\"198.767\" stroke-linecap=\"round\" style=\"stroke:rgb(197,230,36);stroke-width:4\"/><line x1=\"163.938\" y1=\"198.767\" x2=\"281.92\" y2=\"200.826\" stroke-linecap=\"round\" style=\"stroke:rgb(121,11,83);stroke-width:4\"/><line x1=\"281.92\" y1=\"200.826\" x2=\"85.19\" y2=\"190.516\" stroke-linecap=\"round\" style=\"stroke:rgb(44,194,158);stroke-width:4\"/><line x1=\"85.19\" y1=\"190.516\" x2=\"-64.529\" y2=\"230.633\" stroke-linecap=\"round\" style=\"stroke:rgb(7,148,66);stroke-width:4\"/><line x1=\"-64.529\" y1=\"230.633\" x2=\"400\" y2=\"250\" stroke-linecap=\"round\" style=\"stroke:rgb(7,148,66);stroke-width:4\"/><line x1=\"400\" y1=\"250\" x2=\"521.091\" y2=\"235.132\" stroke-linecap=\"round\" style=\"stroke:rgb(248,238,53);stroke-width:4\"/><line x1=\"521.091\" y1=\"235.132\" x2=\"382.123\" y2=\"360.259\" stroke-linecap=\"round\" style=\"stroke:rgb(216,226,210);stroke-width:4\"/><line x1=\"382.123\" y1=\"360.259\" x2=\"289.405\" y2=\"397.72\" stroke-linecap=\"round\" style=\"stroke:rgb(24,38,105);stroke-width:4\"/><line x1=\"289.405\" y1=\"397.72\" x2=\"265.64\" y2=\"204.174\" stroke-linecap=\"round\" style=\"stroke:rgb(111,24,248);stroke-width:4\"/><line x1=\"265.64\" y1=\"204.174\" x2=\"212.18\" y2=\"368.707\" stroke-linecap=\"round\" style=\"stroke:rgb(116,41,195);stroke-width:4\"/><line x1=\"212.18\" y1=\"368.707\" x2=\"334.712\" y2=\"357.987\" stroke-linecap=\"round\" style=\"stroke:rgb(101,251,214);stroke-width:4\"/><line x1=\"334.712\" y1=\"357.987\" x2=\"368.097\" y2=\"224.086\" stroke-linecap=\"round\" style=\"stroke:rgb(48,200,73);stroke-width:4\"/><line x1=\"368.097\" y1=\"224.086\" x2=\"259.297\" y2=\"135.981\" stroke-linecap=\"round\" style=\"stroke:rgb(195,169,89);stroke-width:4\"/><line x1=\"259.297\" y1=\"135.981\" x2=\"388.585\" y2=\"122.392\" stroke-linecap=\"round\" style=\"stroke:rgb(165,224,83);stroke-width:4\"/><line x1=\"388.585\" y1=\"122.392\" x2=\"532.836\" y2=\"28.714\" stroke-linecap=\"round\" style=\"stroke:rgb(218,206,101);stroke-width:4\"/><line x1=\"532.836\" y1=\"28.714\" x2=\"460.201\" y2=\"-57.849\" stroke-linecap=\"round\" style=\"stroke:rgb(76,90,229);stroke-width:4\"/><line x1=\"460.201\" y1=\"-57.849\" x2=\"400\" y2=\"250\" stroke-linecap=\"round\" style=\"stroke:rgb(76,90,229);stroke-width:4\"/><line x1=\"400\" y1=\"250\" x2=\"369.404\" y2=\"356.7\" stroke-linecap=\"round\" style=\"stroke:rgb(76,35,19);stroke-width:4\"/><line x1=\"369.404\" y1=\"356.7\" x2=\"557.146\" y2=\"366.539\" stroke-linecap=\"round\" style=\"stroke:rgb(252,138,118);stroke-width:4\"/><line x1=\"557.146\" y1=\"366.539\" x2=\"679.256\" y2=\"296.039\" stroke-linecap=\"round\" style=\"stroke:rgb(172,31,40);stroke-width:4\"/><line x1=\"679.256\" y1=\"296.039\" x2=\"600.353\" y2=\"229.832\" stroke-linecap=\"round\" style=\"stroke:rgb(145,89,183);stroke-width:4\"/><line x1=\"600.353\" y1=\"229.832\" x2=\"613.775\" y2=\"76.418\" stroke-linecap=\"round\" style=\"stroke:rgb(171,14,136);stroke-width:4\"/><line x1=\"613.775\" y1=\"76.418\" x2=\"649.821\" y2=\"220.992\" stroke-linecap=\"round\" style=\"stroke:rgb(6,19,229);stroke-width:4\"/><line x1=\"649.821\" y1=\"220.992\" x2=\"787.376\" y2=\"332.382\" stroke-linecap=\"round\" style=\"stroke:rgb(159,143,80);stroke-width:4\"/><line x1=\"787.376\" y1=\"332.382\" x2=\"847.757\" y2=\"213.878\" stroke-linecap=\"round\" style=\"stroke:rgb(89,207,101);stroke-width:4\"/><line x1=\"847.757\" y1=\"213.878\" x2=\"400\" y2=\"250\" stroke-linecap=\"round\" style=\"stroke:rgb(89,207,101);stroke-width:4\"/><line x1=\"400\" y1=\"250\" x2=\"328.5\" y2=\"373.842\" stroke-linecap=\"round\" style=\"stroke:rgb(199,58,97);stroke-width:4\"/><line x1=\"328.5\" y1=\"373.842\" x2=\"213.147\" y2=\"334.123\" stroke-linecap=\"round\" style=\"stroke:rgb(82,203,25);stroke-width:4\"/><line x1=\"213.147\" y1=\"334.123\" x2=\"373.671\" y2=\"362.428\" stroke-linecap=\"round\" style=\"stroke:rgb(175,95,60);stroke-width:4\"/><line x1=\"373.671\" y1=\"362.428\" x2=\"310.739\" y2=\"189.525\" stroke-linecap=\"round\" style=\"stroke:rgb(210,19,232);stroke-width:4\"/><line x1=\"310.739\" y1=\"189.525\" x2=\"351.413\" y2=\"98.17\" stroke-linecap=\"round\" style=\"stroke:rgb(150,176,35);stroke-width:4\"/><line x1=\"351.413\" y1=\"98.17\" x2=\"253.556\" y2=\"261.032\" stroke-linecap=\"round\" style=\"stroke:rgb(25,245,33);stroke-width:4\"/><line x1=\"253.556\" y1=\"261.032\" x2=\"205.372\" y2=\"400.969\" stroke-linecap=\"round\" style=\"stroke:rgb(140,50,46);stroke-width:4\"/><line x1=\"205.372\" y1=\"400.969\" x2=\"275.741\" y2=\"539.075\" stroke-linecap=\"round\" style=\"stroke:rgb(145,244,168);stroke-width:4\"/><line x1=\"275.741\" y1=\"539.075\" x2=\"400\" y2=\"250\" stroke-linecap=\"round\" style=\"stroke:rgb(145,244,168);stroke-width:4\"/><line x1=\"400\" y1=\"250\" x2=\"296.992\" y2=\"78.567\" stroke-linecap=\"round\" style=\"stroke:rgb(164,99,46);stroke-width:4\"/><line x1=\"296.992\" y1=\"78.567\" x2=\"443.095\" y2=\"-39.745\" stroke-linecap=\"round\" style=\"stroke:rgb(60,84,121);stroke-width:4\"/><line x1=\"443.095\" y1=\"-39.745\" x2=\"400\" y2=\"250\" stroke-linecap=\"round\" style=\"stroke:rgb(60,84,121);stroke-width:4\"/><line x1=\"400\" y1=\"250\" x2=\"287.155\" y2=\"244.086\" stroke-linecap=\"round\" style=\"stroke:rgb(85,72,128);stroke-width:4\"/><line x1=\"287.155\" y1=\"244.086\" x2=\"391.162\" y2=\"279.898\" stroke-linecap=\"round\" style=\"stroke:rgb(212,168,17);stroke-width:4\"/><line x1=\"391.162\" y1=\"279.898\" x2=\"193.433\" y2=\"290.261\" stroke-linecap=\"round\" style=\"stroke:rgb(10,26,216);stroke-width:4\"/><line x1=\"193.433\" y1=\"290.261\" x2=\"245.849\" y2=\"442.489\" stroke-linecap=\"round\" style=\"stroke:rgb(240,31,186);stroke-width:4\"/><line x1=\"245.849\" y1=\"442.489\" x2=\"335.466\" y2=\"591.636\" stroke-linecap=\"round\" style=\"stroke:rgb(180,51,183);stroke-width:4\"/><line x1=\"335.466\" y1=\"591.636\" x2=\"400\" y2=\"250\" stroke-linecap=\"round\" style=\"stroke:rgb(180,51,183);stroke-width:4\"/><line x1=\"400\" y1=\"250\" x2=\"279.506\" y2=\"213.161\" stroke-linecap=\"round\" style=\"stroke:rgb(116,57,27);stroke-width:4\"/><line x1=\"279.506\" y1=\"213.161\" x2=\"424.515\" y2=\"145.542\" stroke-linecap=\"round\" style=\"stroke:rgb(19,93,57);stroke-width:4\"/><line x1=\"424.515\" y1=\"145.542\" x2=\"509.906\" y2=\"203.139\" stroke-linecap=\"round\" style=\"stroke:rgb(228,38,74);stroke-width:4\"/><line x1=\"509.906\" y1=\"203.139\" x2=\"489.169\" y2=\"350.689\" stroke-linecap=\"round\" style=\"stroke:rgb(35,205,117);stroke-width:4\"/><line x1=\"489.169\" y1=\"350.689\" x2=\"378.923\" y2=\"419.579\" stroke-linecap=\"round\" style=\"stroke:rgb(163,230,227);stroke-width:4\"/><line x1=\"378.923\" y1=\"419.579\" x2=\"296.953\" y2=\"334.697\" stroke-linecap=\"round\" style=\"stroke:rgb(76,24,112);stroke-width:4\"/><line x1=\"296.953\" y1=\"334.697\" x2=\"162.507\" y2=\"225.825\" stroke-linecap=\"round\" style=\"stroke:rgb(108,100,145);stroke-width:4\"/><line x1=\"162.507\" y1=\"225.825\" x2=\"292.666\" y2=\"138.032\" stroke-linecap=\"round\" style=\"stroke:rgb(64,153,68);stroke-width:4\"/><line x1=\"292.666\" y1=\"138.032\" x2=\"302.99\" y2=\"285.671\" stroke-linecap=\"round\" style=\"stroke:rgb(85,96,12);stroke-width:4\"/><line x1=\"302.99\" y1=\"285.671\" x2=\"224.227\" y2=\"394.079\" stroke-linecap=\"round\" style=\"stroke:rgb(140,79,142);stroke-width:4\"/><line x1=\"224.227\" y1=\"394.079\" x2=\"332.227\" y2=\"394.079\" stroke-linecap=\"round\" style=\"stroke:rgb(29,241,23);stroke-width:4\"/><line x1=\"332.227\" y1=\"394.079\" x2=\"237.901\" y2=\"545.032\" stroke-linecap=\"round\" style=\"stroke:rgb(47,39,214);stroke-width:4\"/><line x1=\"237.901\" y1=\"545.032\" x2=\"400\" y2=\"250\" stroke-linecap=\"round\" style=\"stroke:rgb(47,39,214);stroke-width:4\"/><line x1=\"400\" y1=\"250\" x2=\"525.539\" y2=\"209.21\" stroke-linecap=\"round\" style=\"stroke:rgb(43,0,52);stroke-width:4\"/><line x1=\"525.539\" y1=\"209.21\" x2=\"658.003\" y2=\"150.233\" stroke-linecap=\"round\" style=\"stroke:rgb(12,112,53);stroke-width:4\"/><line x1=\"658.003\" y1=\"150.233\" x2=\"599.433\" y2=\"281.784\" stroke-linecap=\"round\" style=\"stroke:rgb(124,252,70);stroke-width:4\"/><line x1=\"599.433\" y1=\"281.784\" x2=\"503.567\" y2=\"368.102\" stroke-linecap=\"round\" style=\"stroke:rgb(192,15,132);stroke-width:4\"/><line x1=\"503.567\" y1=\"368.102\" x2=\"548.557\" y2=\"173.228\" stroke-linecap=\"round\" style=\"stroke:rgb(89,112,86);stroke-width:4\"/><line x1=\"548.557\" y1=\"173.228\" x2=\"445.575\" y2=\"62.794\" stroke-linecap=\"round\" style=\"stroke:rgb(212,153,208);stroke-width:4\"/><line x1=\"445.575\" y1=\"62.794\" x2=\"614.644\" y2=\"45.024\" stroke-linecap=\"round\" style=\"stroke:rgb(15,111,240);stroke-width:4\"/><line x1=\"614.644\" y1=\"45.024\" x2=\"755.58\" y2=\"-50.039\" stroke-linecap=\"round\" style=\"stroke:rgb(84,12,170);stroke-width:4\"/><line x1=\"755.58\" y1=\"-50.039\" x2=\"400\" y2=\"250\" stroke-linecap=\"round\" style=\"stroke:rgb(84,12,170);stroke-width:4\"/><line x1=\"400\" y1=\"250\" x2=\"453.522\" y2=\"335.653\" stroke-linecap=\"round\" style=\"stroke:rgb(218,21,114);stroke-width:4\"/><line x1=\"453.522\" y1=\"335.653\" x2=\"453.522\" y2=\"180.653\" stroke-linecap=\"round\" style=\"stroke:rgb(99,70,163);stroke-width:4\"/><line x1=\"453.522\" y1=\"180.653\" x2=\"632.757\" y2=\"149.049\" stroke-linecap=\"round\" style=\"stroke:rgb(96,117,94);stroke-width:4\"/><line x1=\"632.757\" y1=\"149.049\" x2=\"509.75\" y2=\"30.262\" stroke-linecap=\"round\" style=\"stroke:rgb(133,182,50);stroke-width:4\"/>\n",
              "        <g visibility=visible transform=\"rotate(123,509.75,30.262) translate(491.75, 12.262)\">\n",
              "<path style=\" stroke:none;fill-rule:evenodd;fill:rgb(127,207,38);fill-opacity:1;\" d=\"M 18.214844 0.632812 C 16.109375 1.800781 15.011719 4.074219 15.074219 7.132812 L 15.085938 7.652344 L 14.785156 7.496094 C 13.476562 6.824219 11.957031 6.671875 10.40625 7.066406 C 8.46875 7.550781 6.515625 9.15625 4.394531 11.992188 C 3.0625 13.777344 2.679688 14.636719 3.042969 15.027344 L 3.15625 15.152344 L 3.519531 15.152344 C 4.238281 15.152344 4.828125 14.886719 8.1875 13.039062 C 9.386719 12.378906 10.371094 11.839844 10.378906 11.839844 C 10.386719 11.839844 10.355469 11.929688 10.304688 12.035156 C 9.832031 13.09375 9.257812 14.820312 8.96875 16.078125 C 7.914062 20.652344 8.617188 24.53125 11.070312 27.660156 C 11.351562 28.015625 11.363281 27.914062 10.972656 28.382812 C 8.925781 30.84375 7.945312 33.28125 8.238281 35.1875 C 8.289062 35.527344 8.28125 35.523438 8.917969 35.523438 C 10.941406 35.523438 13.074219 34.207031 15.136719 31.6875 C 15.359375 31.417969 15.328125 31.425781 15.5625 31.574219 C 16.292969 32.042969 18.023438 32.964844 18.175781 32.964844 C 18.335938 32.964844 19.941406 32.210938 20.828125 31.71875 C 20.996094 31.625 21.136719 31.554688 21.136719 31.558594 C 21.203125 31.664062 21.898438 32.414062 22.222656 32.730469 C 23.835938 34.300781 25.5625 35.132812 27.582031 35.300781 C 27.90625 35.328125 27.9375 35.308594 28.007812 34.984375 C 28.382812 33.242188 27.625 30.925781 25.863281 28.425781 L 25.542969 27.96875 L 25.699219 27.785156 C 28.945312 23.960938 29.132812 18.699219 26.257812 11.96875 L 26.207031 11.84375 L 27.945312 12.703125 C 31.53125 14.476562 32.316406 14.800781 33.03125 14.800781 C 33.976562 14.800781 33.78125 13.9375 32.472656 12.292969 C 28.519531 7.355469 25.394531 5.925781 21.921875 7.472656 L 21.558594 7.636719 L 21.578125 7.542969 C 21.699219 6.992188 21.761719 5.742188 21.699219 5.164062 C 21.496094 3.296875 20.664062 1.964844 19.003906 0.855469 C 18.480469 0.503906 18.457031 0.5 18.214844 0.632812\"/>\n",
              "</g>\n",
              "      </svg>\n",
              "    "
            ]
          },
          "metadata": {}
        },
        {
          "output_type": "error",
          "ename": "KeyboardInterrupt",
          "evalue": "ignored",
          "traceback": [
            "\u001b[0;31m---------------------------------------------------------------------------\u001b[0m",
            "\u001b[0;31mKeyboardInterrupt\u001b[0m                         Traceback (most recent call last)",
            "\u001b[0;32m<ipython-input-38-c42bfd28722f>\u001b[0m in \u001b[0;36m<module>\u001b[0;34m\u001b[0m\n\u001b[1;32m      6\u001b[0m   \u001b[0mturtle\u001b[0m\u001b[0;34m.\u001b[0m\u001b[0mleft\u001b[0m\u001b[0;34m(\u001b[0m\u001b[0mrandom\u001b[0m\u001b[0;34m.\u001b[0m\u001b[0mrandint\u001b[0m\u001b[0;34m(\u001b[0m\u001b[0;36m0\u001b[0m\u001b[0;34m,\u001b[0m\u001b[0;36m360\u001b[0m\u001b[0;34m)\u001b[0m\u001b[0;34m)\u001b[0m\u001b[0;34m\u001b[0m\u001b[0;34m\u001b[0m\u001b[0m\n\u001b[1;32m      7\u001b[0m   \u001b[0mturtle\u001b[0m\u001b[0;34m.\u001b[0m\u001b[0mcolor\u001b[0m\u001b[0;34m(\u001b[0m\u001b[0;34m(\u001b[0m\u001b[0mrandom\u001b[0m\u001b[0;34m.\u001b[0m\u001b[0mrandint\u001b[0m\u001b[0;34m(\u001b[0m\u001b[0;36m0\u001b[0m\u001b[0;34m,\u001b[0m\u001b[0;36m255\u001b[0m\u001b[0;34m)\u001b[0m\u001b[0;34m,\u001b[0m\u001b[0mrandom\u001b[0m\u001b[0;34m.\u001b[0m\u001b[0mrandint\u001b[0m\u001b[0;34m(\u001b[0m\u001b[0;36m0\u001b[0m\u001b[0;34m,\u001b[0m\u001b[0;36m255\u001b[0m\u001b[0;34m)\u001b[0m\u001b[0;34m,\u001b[0m\u001b[0mrandom\u001b[0m\u001b[0;34m.\u001b[0m\u001b[0mrandint\u001b[0m\u001b[0;34m(\u001b[0m\u001b[0;36m0\u001b[0m\u001b[0;34m,\u001b[0m\u001b[0;36m255\u001b[0m\u001b[0;34m)\u001b[0m\u001b[0;34m)\u001b[0m\u001b[0;34m)\u001b[0m\u001b[0;34m\u001b[0m\u001b[0;34m\u001b[0m\u001b[0m\n\u001b[0;32m----> 8\u001b[0;31m   \u001b[0mturtle\u001b[0m\u001b[0;34m.\u001b[0m\u001b[0mforward\u001b[0m\u001b[0;34m(\u001b[0m\u001b[0mrandom\u001b[0m\u001b[0;34m.\u001b[0m\u001b[0mrandint\u001b[0m\u001b[0;34m(\u001b[0m\u001b[0;36m100\u001b[0m\u001b[0;34m,\u001b[0m\u001b[0;36m200\u001b[0m\u001b[0;34m)\u001b[0m\u001b[0;34m)\u001b[0m\u001b[0;34m\u001b[0m\u001b[0;34m\u001b[0m\u001b[0m\n\u001b[0m\u001b[1;32m      9\u001b[0m   \u001b[0;32mif\u001b[0m \u001b[0;36m800\u001b[0m \u001b[0;34m<=\u001b[0m \u001b[0mturtle\u001b[0m\u001b[0;34m.\u001b[0m\u001b[0mgetx\u001b[0m\u001b[0;34m(\u001b[0m\u001b[0;34m)\u001b[0m \u001b[0;32mor\u001b[0m \u001b[0mturtle\u001b[0m\u001b[0;34m.\u001b[0m\u001b[0mgetx\u001b[0m\u001b[0;34m(\u001b[0m\u001b[0;34m)\u001b[0m \u001b[0;34m<=\u001b[0m \u001b[0;36m0\u001b[0m \u001b[0;32mor\u001b[0m\u001b[0;31m \u001b[0m\u001b[0;31m\\\u001b[0m\u001b[0;34m\u001b[0m\u001b[0;34m\u001b[0m\u001b[0m\n\u001b[1;32m     10\u001b[0m   \u001b[0;36m500\u001b[0m \u001b[0;34m<=\u001b[0m \u001b[0mturtle\u001b[0m\u001b[0;34m.\u001b[0m\u001b[0mgety\u001b[0m\u001b[0;34m(\u001b[0m\u001b[0;34m)\u001b[0m \u001b[0;32mor\u001b[0m \u001b[0mturtle\u001b[0m\u001b[0;34m.\u001b[0m\u001b[0mgety\u001b[0m\u001b[0;34m(\u001b[0m\u001b[0;34m)\u001b[0m \u001b[0;34m<=\u001b[0m\u001b[0;36m0\u001b[0m\u001b[0;34m:\u001b[0m\u001b[0;34m\u001b[0m\u001b[0;34m\u001b[0m\u001b[0m\n",
            "\u001b[0;32m/usr/local/lib/python3.7/dist-packages/ColabTurtle/Turtle.py\u001b[0m in \u001b[0;36mforward\u001b[0;34m(units)\u001b[0m\n\u001b[1;32m    172\u001b[0m     \u001b[0mending_point\u001b[0m \u001b[0;34m=\u001b[0m \u001b[0;34m(\u001b[0m\u001b[0mturtle_pos\u001b[0m\u001b[0;34m[\u001b[0m\u001b[0;36m0\u001b[0m\u001b[0;34m]\u001b[0m \u001b[0;34m+\u001b[0m \u001b[0munits\u001b[0m \u001b[0;34m*\u001b[0m \u001b[0mmath\u001b[0m\u001b[0;34m.\u001b[0m\u001b[0mcos\u001b[0m\u001b[0;34m(\u001b[0m\u001b[0malpha\u001b[0m\u001b[0;34m)\u001b[0m\u001b[0;34m,\u001b[0m \u001b[0mturtle_pos\u001b[0m\u001b[0;34m[\u001b[0m\u001b[0;36m1\u001b[0m\u001b[0;34m]\u001b[0m \u001b[0;34m+\u001b[0m \u001b[0munits\u001b[0m \u001b[0;34m*\u001b[0m \u001b[0mmath\u001b[0m\u001b[0;34m.\u001b[0m\u001b[0msin\u001b[0m\u001b[0;34m(\u001b[0m\u001b[0malpha\u001b[0m\u001b[0;34m)\u001b[0m\u001b[0;34m)\u001b[0m\u001b[0;34m\u001b[0m\u001b[0;34m\u001b[0m\u001b[0m\n\u001b[1;32m    173\u001b[0m \u001b[0;34m\u001b[0m\u001b[0m\n\u001b[0;32m--> 174\u001b[0;31m     \u001b[0m_moveToNewPosition\u001b[0m\u001b[0;34m(\u001b[0m\u001b[0mending_point\u001b[0m\u001b[0;34m)\u001b[0m\u001b[0;34m\u001b[0m\u001b[0;34m\u001b[0m\u001b[0m\n\u001b[0m\u001b[1;32m    175\u001b[0m \u001b[0;34m\u001b[0m\u001b[0m\n\u001b[1;32m    176\u001b[0m \u001b[0mfd\u001b[0m \u001b[0;34m=\u001b[0m \u001b[0mforward\u001b[0m \u001b[0;31m# alias\u001b[0m\u001b[0;34m\u001b[0m\u001b[0;34m\u001b[0m\u001b[0m\n",
            "\u001b[0;32m/usr/local/lib/python3.7/dist-packages/ColabTurtle/Turtle.py\u001b[0m in \u001b[0;36m_moveToNewPosition\u001b[0;34m(new_pos)\u001b[0m\n\u001b[1;32m    161\u001b[0m \u001b[0;34m\u001b[0m\u001b[0m\n\u001b[1;32m    162\u001b[0m     \u001b[0mturtle_pos\u001b[0m \u001b[0;34m=\u001b[0m \u001b[0mnew_pos\u001b[0m\u001b[0;34m\u001b[0m\u001b[0;34m\u001b[0m\u001b[0m\n\u001b[0;32m--> 163\u001b[0;31m     \u001b[0m_updateDrawing\u001b[0m\u001b[0;34m(\u001b[0m\u001b[0;34m)\u001b[0m\u001b[0;34m\u001b[0m\u001b[0;34m\u001b[0m\u001b[0m\n\u001b[0m\u001b[1;32m    164\u001b[0m \u001b[0;34m\u001b[0m\u001b[0m\n\u001b[1;32m    165\u001b[0m \u001b[0;34m\u001b[0m\u001b[0m\n",
            "\u001b[0;32m/usr/local/lib/python3.7/dist-packages/ColabTurtle/Turtle.py\u001b[0m in \u001b[0;36m_updateDrawing\u001b[0;34m()\u001b[0m\n\u001b[1;32m    143\u001b[0m     \u001b[0;32mif\u001b[0m \u001b[0mdrawing_window\u001b[0m \u001b[0;34m==\u001b[0m \u001b[0;32mNone\u001b[0m\u001b[0;34m:\u001b[0m\u001b[0;34m\u001b[0m\u001b[0;34m\u001b[0m\u001b[0m\n\u001b[1;32m    144\u001b[0m         \u001b[0;32mraise\u001b[0m \u001b[0mAttributeError\u001b[0m\u001b[0;34m(\u001b[0m\u001b[0;34m\"Display has not been initialized yet. Call initializeTurtle() before using.\"\u001b[0m\u001b[0;34m)\u001b[0m\u001b[0;34m\u001b[0m\u001b[0;34m\u001b[0m\u001b[0m\n\u001b[0;32m--> 145\u001b[0;31m     \u001b[0mtime\u001b[0m\u001b[0;34m.\u001b[0m\u001b[0msleep\u001b[0m\u001b[0;34m(\u001b[0m\u001b[0m_speedToSec\u001b[0m\u001b[0;34m(\u001b[0m\u001b[0mturtle_speed\u001b[0m\u001b[0;34m)\u001b[0m\u001b[0;34m)\u001b[0m\u001b[0;34m\u001b[0m\u001b[0;34m\u001b[0m\u001b[0m\n\u001b[0m\u001b[1;32m    146\u001b[0m     \u001b[0mdrawing_window\u001b[0m\u001b[0;34m.\u001b[0m\u001b[0mupdate\u001b[0m\u001b[0;34m(\u001b[0m\u001b[0mHTML\u001b[0m\u001b[0;34m(\u001b[0m\u001b[0m_generateSvgDrawing\u001b[0m\u001b[0;34m(\u001b[0m\u001b[0;34m)\u001b[0m\u001b[0;34m)\u001b[0m\u001b[0;34m)\u001b[0m\u001b[0;34m\u001b[0m\u001b[0;34m\u001b[0m\u001b[0m\n\u001b[1;32m    147\u001b[0m \u001b[0;34m\u001b[0m\u001b[0m\n",
            "\u001b[0;31mKeyboardInterrupt\u001b[0m: "
          ]
        }
      ]
    }
  ]
}